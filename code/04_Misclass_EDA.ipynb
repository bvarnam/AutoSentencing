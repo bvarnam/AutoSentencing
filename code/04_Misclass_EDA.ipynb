{
 "cells": [
  {
   "cell_type": "markdown",
   "id": "0ca725e2",
   "metadata": {},
   "source": [
    "# Exploratory Data Analysis of the Misclassifications\n",
    "---"
   ]
  },
  {
   "cell_type": "markdown",
   "id": "6cb99ae3",
   "metadata": {},
   "source": [
    "## Imports"
   ]
  },
  {
   "cell_type": "code",
   "execution_count": 3,
   "id": "46d51d0b",
   "metadata": {},
   "outputs": [],
   "source": [
    "import pandas as pd\n",
    "import numpy as np\n",
    "import matplotlib.pyplot as plt\n",
    "import seaborn as sns\n",
    "%matplotlib inline"
   ]
  },
  {
   "cell_type": "markdown",
   "id": "666afa3f",
   "metadata": {},
   "source": [
    "## Read in Original DataFrame"
   ]
  },
  {
   "cell_type": "code",
   "execution_count": 6,
   "id": "ec8be5ef",
   "metadata": {},
   "outputs": [
    {
     "name": "stdout",
     "output_type": "stream",
     "text": [
      "(16829, 64)\n"
     ]
    },
    {
     "data": {
      "text/html": [
       "<div>\n",
       "<style scoped>\n",
       "    .dataframe tbody tr th:only-of-type {\n",
       "        vertical-align: middle;\n",
       "    }\n",
       "\n",
       "    .dataframe tbody tr th {\n",
       "        vertical-align: top;\n",
       "    }\n",
       "\n",
       "    .dataframe thead th {\n",
       "        text-align: right;\n",
       "    }\n",
       "</style>\n",
       "<table border=\"1\" class=\"dataframe\">\n",
       "  <thead>\n",
       "    <tr style=\"text-align: right;\">\n",
       "      <th></th>\n",
       "      <th>accgdln</th>\n",
       "      <th>age</th>\n",
       "      <th>altdum</th>\n",
       "      <th>amttotal</th>\n",
       "      <th>casetype</th>\n",
       "      <th>citwhere</th>\n",
       "      <th>combdrg2</th>\n",
       "      <th>crimhist</th>\n",
       "      <th>disposit</th>\n",
       "      <th>district</th>\n",
       "      <th>...</th>\n",
       "      <th>typemony</th>\n",
       "      <th>typeoths</th>\n",
       "      <th>unit1</th>\n",
       "      <th>mwgt1</th>\n",
       "      <th>wgt1</th>\n",
       "      <th>xcrhissr</th>\n",
       "      <th>xfolsor</th>\n",
       "      <th>xmaxsor</th>\n",
       "      <th>xminsor</th>\n",
       "      <th>sentrnge</th>\n",
       "    </tr>\n",
       "  </thead>\n",
       "  <tbody>\n",
       "    <tr>\n",
       "      <th>0</th>\n",
       "      <td>1.0</td>\n",
       "      <td>20.0</td>\n",
       "      <td>0</td>\n",
       "      <td>0</td>\n",
       "      <td>1.0</td>\n",
       "      <td>211.0</td>\n",
       "      <td>6.0</td>\n",
       "      <td>1.0</td>\n",
       "      <td>1</td>\n",
       "      <td>43</td>\n",
       "      <td>...</td>\n",
       "      <td>1.0</td>\n",
       "      <td>0</td>\n",
       "      <td>1.0</td>\n",
       "      <td>6.356099e+07</td>\n",
       "      <td>85104.433315</td>\n",
       "      <td>1.0</td>\n",
       "      <td>17.0</td>\n",
       "      <td>30.0</td>\n",
       "      <td>24.0</td>\n",
       "      <td>8.0</td>\n",
       "    </tr>\n",
       "    <tr>\n",
       "      <th>1</th>\n",
       "      <td>1.0</td>\n",
       "      <td>64.0</td>\n",
       "      <td>0</td>\n",
       "      <td>0</td>\n",
       "      <td>1.0</td>\n",
       "      <td>211.0</td>\n",
       "      <td>1.0</td>\n",
       "      <td>1.0</td>\n",
       "      <td>1</td>\n",
       "      <td>51</td>\n",
       "      <td>...</td>\n",
       "      <td>1.0</td>\n",
       "      <td>0</td>\n",
       "      <td>1.0</td>\n",
       "      <td>1.193400e+06</td>\n",
       "      <td>5967.000000</td>\n",
       "      <td>3.0</td>\n",
       "      <td>27.0</td>\n",
       "      <td>108.0</td>\n",
       "      <td>87.0</td>\n",
       "      <td>0.0</td>\n",
       "    </tr>\n",
       "    <tr>\n",
       "      <th>2</th>\n",
       "      <td>1.0</td>\n",
       "      <td>28.0</td>\n",
       "      <td>0</td>\n",
       "      <td>0</td>\n",
       "      <td>1.0</td>\n",
       "      <td>211.0</td>\n",
       "      <td>3.0</td>\n",
       "      <td>1.0</td>\n",
       "      <td>1</td>\n",
       "      <td>48</td>\n",
       "      <td>...</td>\n",
       "      <td>1.0</td>\n",
       "      <td>0</td>\n",
       "      <td>2.0</td>\n",
       "      <td>2.000000e+06</td>\n",
       "      <td>2000.000000</td>\n",
       "      <td>6.0</td>\n",
       "      <td>27.0</td>\n",
       "      <td>162.0</td>\n",
       "      <td>130.0</td>\n",
       "      <td>2.0</td>\n",
       "    </tr>\n",
       "    <tr>\n",
       "      <th>3</th>\n",
       "      <td>2.0</td>\n",
       "      <td>55.0</td>\n",
       "      <td>0</td>\n",
       "      <td>0</td>\n",
       "      <td>1.0</td>\n",
       "      <td>211.0</td>\n",
       "      <td>77.0</td>\n",
       "      <td>1.0</td>\n",
       "      <td>1</td>\n",
       "      <td>65</td>\n",
       "      <td>...</td>\n",
       "      <td>1.0</td>\n",
       "      <td>0</td>\n",
       "      <td>1.0</td>\n",
       "      <td>1.030000e+04</td>\n",
       "      <td>4.120000</td>\n",
       "      <td>5.0</td>\n",
       "      <td>13.0</td>\n",
       "      <td>37.0</td>\n",
       "      <td>30.0</td>\n",
       "      <td>0.0</td>\n",
       "    </tr>\n",
       "    <tr>\n",
       "      <th>4</th>\n",
       "      <td>1.0</td>\n",
       "      <td>30.0</td>\n",
       "      <td>0</td>\n",
       "      <td>0</td>\n",
       "      <td>1.0</td>\n",
       "      <td>211.0</td>\n",
       "      <td>6.0</td>\n",
       "      <td>1.0</td>\n",
       "      <td>1</td>\n",
       "      <td>87</td>\n",
       "      <td>...</td>\n",
       "      <td>1.0</td>\n",
       "      <td>0</td>\n",
       "      <td>1.0</td>\n",
       "      <td>1.692000e+05</td>\n",
       "      <td>84.600000</td>\n",
       "      <td>6.0</td>\n",
       "      <td>25.0</td>\n",
       "      <td>137.0</td>\n",
       "      <td>110.0</td>\n",
       "      <td>2.0</td>\n",
       "    </tr>\n",
       "  </tbody>\n",
       "</table>\n",
       "<p>5 rows × 64 columns</p>\n",
       "</div>"
      ],
      "text/plain": [
       "   accgdln   age  altdum  amttotal  casetype  citwhere  combdrg2  crimhist  \\\n",
       "0      1.0  20.0       0         0       1.0     211.0       6.0       1.0   \n",
       "1      1.0  64.0       0         0       1.0     211.0       1.0       1.0   \n",
       "2      1.0  28.0       0         0       1.0     211.0       3.0       1.0   \n",
       "3      2.0  55.0       0         0       1.0     211.0      77.0       1.0   \n",
       "4      1.0  30.0       0         0       1.0     211.0       6.0       1.0   \n",
       "\n",
       "   disposit  district  ...  typemony  typeoths  unit1         mwgt1  \\\n",
       "0         1        43  ...       1.0         0    1.0  6.356099e+07   \n",
       "1         1        51  ...       1.0         0    1.0  1.193400e+06   \n",
       "2         1        48  ...       1.0         0    2.0  2.000000e+06   \n",
       "3         1        65  ...       1.0         0    1.0  1.030000e+04   \n",
       "4         1        87  ...       1.0         0    1.0  1.692000e+05   \n",
       "\n",
       "           wgt1  xcrhissr  xfolsor  xmaxsor  xminsor  sentrnge  \n",
       "0  85104.433315       1.0     17.0     30.0     24.0       8.0  \n",
       "1   5967.000000       3.0     27.0    108.0     87.0       0.0  \n",
       "2   2000.000000       6.0     27.0    162.0    130.0       2.0  \n",
       "3      4.120000       5.0     13.0     37.0     30.0       0.0  \n",
       "4     84.600000       6.0     25.0    137.0    110.0       2.0  \n",
       "\n",
       "[5 rows x 64 columns]"
      ]
     },
     "execution_count": 6,
     "metadata": {},
     "output_type": "execute_result"
    }
   ],
   "source": [
    "csv_file = \"../data/drugs_2020_simply_imputed.csv\"\n",
    "df = pd.read_csv(csv_file)\n",
    "print(df.shape)\n",
    "df.head()"
   ]
  },
  {
   "cell_type": "markdown",
   "id": "afd10ed9",
   "metadata": {},
   "source": [
    "## Read in Misclassification DataFrames"
   ]
  },
  {
   "cell_type": "code",
   "execution_count": 7,
   "id": "097766f8",
   "metadata": {},
   "outputs": [
    {
     "name": "stdout",
     "output_type": "stream",
     "text": [
      "(1090, 65)\n"
     ]
    },
    {
     "data": {
      "text/html": [
       "<div>\n",
       "<style scoped>\n",
       "    .dataframe tbody tr th:only-of-type {\n",
       "        vertical-align: middle;\n",
       "    }\n",
       "\n",
       "    .dataframe tbody tr th {\n",
       "        vertical-align: top;\n",
       "    }\n",
       "\n",
       "    .dataframe thead th {\n",
       "        text-align: right;\n",
       "    }\n",
       "</style>\n",
       "<table border=\"1\" class=\"dataframe\">\n",
       "  <thead>\n",
       "    <tr style=\"text-align: right;\">\n",
       "      <th></th>\n",
       "      <th>accgdln</th>\n",
       "      <th>age</th>\n",
       "      <th>altdum</th>\n",
       "      <th>amttotal</th>\n",
       "      <th>casetype</th>\n",
       "      <th>citwhere</th>\n",
       "      <th>combdrg2</th>\n",
       "      <th>crimhist</th>\n",
       "      <th>disposit</th>\n",
       "      <th>district</th>\n",
       "      <th>...</th>\n",
       "      <th>typeoths</th>\n",
       "      <th>unit1</th>\n",
       "      <th>mwgt1</th>\n",
       "      <th>wgt1</th>\n",
       "      <th>xcrhissr</th>\n",
       "      <th>xfolsor</th>\n",
       "      <th>xmaxsor</th>\n",
       "      <th>xminsor</th>\n",
       "      <th>sentrnge</th>\n",
       "      <th>no_of_misclass</th>\n",
       "    </tr>\n",
       "  </thead>\n",
       "  <tbody>\n",
       "    <tr>\n",
       "      <th>0</th>\n",
       "      <td>1.0</td>\n",
       "      <td>20.0</td>\n",
       "      <td>0</td>\n",
       "      <td>0</td>\n",
       "      <td>1.0</td>\n",
       "      <td>211.0</td>\n",
       "      <td>6.0</td>\n",
       "      <td>1.0</td>\n",
       "      <td>1</td>\n",
       "      <td>43</td>\n",
       "      <td>...</td>\n",
       "      <td>0</td>\n",
       "      <td>1.0</td>\n",
       "      <td>6.356099e+07</td>\n",
       "      <td>85104.433315</td>\n",
       "      <td>1.0</td>\n",
       "      <td>17.0</td>\n",
       "      <td>30.0</td>\n",
       "      <td>24.0</td>\n",
       "      <td>8.0</td>\n",
       "      <td>1</td>\n",
       "    </tr>\n",
       "    <tr>\n",
       "      <th>2</th>\n",
       "      <td>1.0</td>\n",
       "      <td>28.0</td>\n",
       "      <td>0</td>\n",
       "      <td>0</td>\n",
       "      <td>1.0</td>\n",
       "      <td>211.0</td>\n",
       "      <td>3.0</td>\n",
       "      <td>1.0</td>\n",
       "      <td>1</td>\n",
       "      <td>48</td>\n",
       "      <td>...</td>\n",
       "      <td>0</td>\n",
       "      <td>2.0</td>\n",
       "      <td>2.000000e+06</td>\n",
       "      <td>2000.000000</td>\n",
       "      <td>6.0</td>\n",
       "      <td>27.0</td>\n",
       "      <td>162.0</td>\n",
       "      <td>130.0</td>\n",
       "      <td>2.0</td>\n",
       "      <td>1</td>\n",
       "    </tr>\n",
       "    <tr>\n",
       "      <th>5</th>\n",
       "      <td>8.0</td>\n",
       "      <td>22.0</td>\n",
       "      <td>0</td>\n",
       "      <td>125</td>\n",
       "      <td>2.0</td>\n",
       "      <td>211.0</td>\n",
       "      <td>4.0</td>\n",
       "      <td>1.0</td>\n",
       "      <td>1</td>\n",
       "      <td>87</td>\n",
       "      <td>...</td>\n",
       "      <td>0</td>\n",
       "      <td>1.0</td>\n",
       "      <td>6.356099e+07</td>\n",
       "      <td>85104.433315</td>\n",
       "      <td>1.0</td>\n",
       "      <td>2.0</td>\n",
       "      <td>6.0</td>\n",
       "      <td>0.0</td>\n",
       "      <td>0.0</td>\n",
       "      <td>1</td>\n",
       "    </tr>\n",
       "    <tr>\n",
       "      <th>7</th>\n",
       "      <td>1.0</td>\n",
       "      <td>30.0</td>\n",
       "      <td>0</td>\n",
       "      <td>0</td>\n",
       "      <td>1.0</td>\n",
       "      <td>49.0</td>\n",
       "      <td>3.0</td>\n",
       "      <td>1.0</td>\n",
       "      <td>1</td>\n",
       "      <td>39</td>\n",
       "      <td>...</td>\n",
       "      <td>0</td>\n",
       "      <td>1.0</td>\n",
       "      <td>8.900000e+06</td>\n",
       "      <td>8900.000000</td>\n",
       "      <td>1.0</td>\n",
       "      <td>29.0</td>\n",
       "      <td>108.0</td>\n",
       "      <td>87.0</td>\n",
       "      <td>2.0</td>\n",
       "      <td>1</td>\n",
       "    </tr>\n",
       "    <tr>\n",
       "      <th>10</th>\n",
       "      <td>1.0</td>\n",
       "      <td>31.0</td>\n",
       "      <td>0</td>\n",
       "      <td>0</td>\n",
       "      <td>1.0</td>\n",
       "      <td>211.0</td>\n",
       "      <td>6.0</td>\n",
       "      <td>1.0</td>\n",
       "      <td>1</td>\n",
       "      <td>62</td>\n",
       "      <td>...</td>\n",
       "      <td>0</td>\n",
       "      <td>1.0</td>\n",
       "      <td>7.154000e+05</td>\n",
       "      <td>35.770000</td>\n",
       "      <td>5.0</td>\n",
       "      <td>25.0</td>\n",
       "      <td>125.0</td>\n",
       "      <td>100.0</td>\n",
       "      <td>8.0</td>\n",
       "      <td>1</td>\n",
       "    </tr>\n",
       "  </tbody>\n",
       "</table>\n",
       "<p>5 rows × 65 columns</p>\n",
       "</div>"
      ],
      "text/plain": [
       "    accgdln   age  altdum  amttotal  casetype  citwhere  combdrg2  crimhist  \\\n",
       "0       1.0  20.0       0         0       1.0     211.0       6.0       1.0   \n",
       "2       1.0  28.0       0         0       1.0     211.0       3.0       1.0   \n",
       "5       8.0  22.0       0       125       2.0     211.0       4.0       1.0   \n",
       "7       1.0  30.0       0         0       1.0      49.0       3.0       1.0   \n",
       "10      1.0  31.0       0         0       1.0     211.0       6.0       1.0   \n",
       "\n",
       "    disposit  district  ...  typeoths  unit1         mwgt1          wgt1  \\\n",
       "0          1        43  ...         0    1.0  6.356099e+07  85104.433315   \n",
       "2          1        48  ...         0    2.0  2.000000e+06   2000.000000   \n",
       "5          1        87  ...         0    1.0  6.356099e+07  85104.433315   \n",
       "7          1        39  ...         0    1.0  8.900000e+06   8900.000000   \n",
       "10         1        62  ...         0    1.0  7.154000e+05     35.770000   \n",
       "\n",
       "    xcrhissr  xfolsor  xmaxsor  xminsor  sentrnge  no_of_misclass  \n",
       "0        1.0     17.0     30.0     24.0       8.0               1  \n",
       "2        6.0     27.0    162.0    130.0       2.0               1  \n",
       "5        1.0      2.0      6.0      0.0       0.0               1  \n",
       "7        1.0     29.0    108.0     87.0       2.0               1  \n",
       "10       5.0     25.0    125.0    100.0       8.0               1  \n",
       "\n",
       "[5 rows x 65 columns]"
      ]
     },
     "execution_count": 7,
     "metadata": {},
     "output_type": "execute_result"
    }
   ],
   "source": [
    "# Misclassifications from Neural Network (2 models, 1 using SMOTE and 1 using UnderSample Majority)\n",
    "df1 = pd.read_csv('../data/NN_misclass_df.csv', index_col='Unnamed: 0')\n",
    "print(df1.shape)\n",
    "df1.head()"
   ]
  },
  {
   "cell_type": "code",
   "execution_count": null,
   "id": "79142c87",
   "metadata": {},
   "outputs": [],
   "source": []
  },
  {
   "cell_type": "code",
   "execution_count": null,
   "id": "182d3474",
   "metadata": {},
   "outputs": [],
   "source": [
    "demographics = ['age', 'newrace', 'monsex', 'monrace', 'neweduc', 'newcnvtn', 'citwhere', 'newcit', 'prisdum']"
   ]
  },
  {
   "cell_type": "code",
   "execution_count": null,
   "id": "8f20bc54",
   "metadata": {},
   "outputs": [],
   "source": []
  },
  {
   "cell_type": "code",
   "execution_count": 8,
   "id": "a3b4dfcf",
   "metadata": {},
   "outputs": [
    {
     "data": {
      "text/plain": [
       "Text(0.5, 1.0, 'Percentage of Races that Received a Prison Sentence')"
      ]
     },
     "execution_count": 8,
     "metadata": {},
     "output_type": "execute_result"
    },
    {
     "data": {
      "image/png": "[encoded data removed]",
      "text/plain": [
       "<Figure size 1152x576 with 1 Axes>"
      ]
     },
     "metadata": {
      "needs_background": "light"
     },
     "output_type": "display_data"
    }
   ],
   "source": [
    "plt.figure(figsize=(16,8))\n",
    "\n",
    "df[df['prisdum']==1]['newrace'].map({6.0: 'Other', 1.0: 'Caucasian', 2.0: 'African-American', 3.0:'Hispanic'}).value_counts(normalize=True).plot(kind='barh', color='green')\n",
    "\n",
    "plt.xlabel('Percentage', fontsize=16)\n",
    "plt.ylabel('Race', fontsize=16)\n",
    "plt.title('Percentage of Races that Received a Prison Sentence', fontsize=24)"
   ]
  },
  {
   "cell_type": "code",
   "execution_count": null,
   "id": "57f85e1b",
   "metadata": {},
   "outputs": [],
   "source": []
  },
  {
   "cell_type": "code",
   "execution_count": 9,
   "id": "e3740c04",
   "metadata": {},
   "outputs": [
    {
     "data": {
      "text/plain": [
       "Text(0.5, 1.0, 'Percentage of Races that Received a Non-Prison Sentence')"
      ]
     },
     "execution_count": 9,
     "metadata": {},
     "output_type": "execute_result"
    },
    {
     "data": {
      "image/png": "[encoded data removed]",
      "text/plain": [
       "<Figure size 1152x576 with 1 Axes>"
      ]
     },
     "metadata": {
      "needs_background": "light"
     },
     "output_type": "display_data"
    }
   ],
   "source": [
    "plt.figure(figsize=(16,8))\n",
    "\n",
    "df[df['prisdum']==0]['newrace'].map({6.0: 'Other', 1.0: 'Caucasian', 2.0: 'African-American', 3.0:'Hispanic'}).value_counts(normalize=True).plot(kind='barh', color='green')\n",
    "\n",
    "plt.xlabel('Percentage', fontsize=16)\n",
    "plt.ylabel('Race', fontsize=16)\n",
    "plt.title('Percentage of Races that Received a Non-Prison Sentence', fontsize=24)"
   ]
  },
  {
   "cell_type": "code",
   "execution_count": null,
   "id": "ec541626",
   "metadata": {},
   "outputs": [],
   "source": []
  },
  {
   "cell_type": "code",
   "execution_count": 12,
   "id": "fe155a09",
   "metadata": {},
   "outputs": [
    {
     "data": {
      "text/plain": [
       "Text(0.5, 1.0, 'Misclassified: Percentage of Races that Received a Prison Sentence')"
      ]
     },
     "execution_count": 12,
     "metadata": {},
     "output_type": "execute_result"
    },
    {
     "data": {
      "image/png": "[encoded data removed]",
      "text/plain": [
       "<Figure size 1152x576 with 1 Axes>"
      ]
     },
     "metadata": {
      "needs_background": "light"
     },
     "output_type": "display_data"
    }
   ],
   "source": [
    "plt.figure(figsize=(16,8))\n",
    "\n",
    "df1[df1['prisdum']==1]['newrace'].map({6.0: 'Other', 1.0: 'Caucasian', 2.0: 'African-American', 3.0:'Hispanic'}).value_counts(normalize=True).plot(kind='barh', color='green')\n",
    "\n",
    "plt.xlabel('Percentage', fontsize=16)\n",
    "plt.ylabel('Race', fontsize=16)\n",
    "plt.title('Misclassified: Percentage of Races that Received a Prison Sentence', fontsize=24)"
   ]
  },
  {
   "cell_type": "code",
   "execution_count": null,
   "id": "c822a201",
   "metadata": {},
   "outputs": [],
   "source": []
  },
  {
   "cell_type": "code",
   "execution_count": 13,
   "id": "b5d3a802",
   "metadata": {},
   "outputs": [
    {
     "data": {
      "text/plain": [
       "Text(0.5, 1.0, 'Misclassified: Percentage of Races that Received a Non-Prison Sentence')"
      ]
     },
     "execution_count": 13,
     "metadata": {},
     "output_type": "execute_result"
    },
    {
     "data": {
      "image/png": "[encoded data removed]",
      "text/plain": [
       "<Figure size 1152x576 with 1 Axes>"
      ]
     },
     "metadata": {
      "needs_background": "light"
     },
     "output_type": "display_data"
    }
   ],
   "source": [
    "plt.figure(figsize=(16,8))\n",
    "\n",
    "df1[df1['prisdum']==0]['newrace'].map({6.0: 'Other', 1.0: 'Caucasian', 2.0: 'African-American', 3.0:'Hispanic'}).value_counts(normalize=True).plot(kind='barh', color='green')\n",
    "\n",
    "plt.xlabel('Percentage', fontsize=16)\n",
    "plt.ylabel('Race', fontsize=16)\n",
    "plt.title('Misclassified: Percentage of Races that Received a Non-Prison Sentence', fontsize=24)"
   ]
  },
  {
   "cell_type": "code",
   "execution_count": null,
   "id": "bf9a746e",
   "metadata": {},
   "outputs": [],
   "source": []
  },
  {
   "cell_type": "code",
   "execution_count": null,
   "id": "b5751050",
   "metadata": {},
   "outputs": [],
   "source": []
  },
  {
   "cell_type": "code",
   "execution_count": null,
   "id": "30cd4d3d",
   "metadata": {},
   "outputs": [],
   "source": []
  }
 ],
 "metadata": {
  "kernelspec": {
   "display_name": "Python 3",
   "language": "python",
   "name": "python3"
  },
  "language_info": {
   "codemirror_mode": {
    "name": "ipython",
    "version": 3
   },
   "file_extension": ".py",
   "mimetype": "text/x-python",
   "name": "python",
   "nbconvert_exporter": "python",
   "pygments_lexer": "ipython3",
   "version": "3.8.8"
  }
 },
 "nbformat": 4,
 "nbformat_minor": 5
}

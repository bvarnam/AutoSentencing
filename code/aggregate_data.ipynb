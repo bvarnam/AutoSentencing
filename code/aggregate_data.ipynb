{
 "cells": [
  {
   "cell_type": "code",
   "execution_count": 2,
   "id": "ad953569-3380-4583-a063-90bfc7a92611",
   "metadata": {},
   "outputs": [],
   "source": [
    "import pandas as pd\n",
    "import numpy as np\n",
    "import warnings\n",
    "warnings.filterwarnings('ignore')"
   ]
  },
  {
   "cell_type": "code",
   "execution_count": 2,
   "id": "fa96239c-61ae-4ead-bcb0-e67b54b2d31f",
   "metadata": {},
   "outputs": [],
   "source": [
    "# Taking the exact same features from the 2020 dataset we used for initial model training\n",
    "features_hardcoded = ['accgdln', 'age', 'altdum', 'amttotal', 'casetype', 'citwhere',\n",
    "       'combdrg2', 'crimhist', 'disposit', 'district', 'drugmin', 'dsplea',\n",
    "       'educatn', 'intdum', 'methmin', 'monrace', 'monsex', 'mweight',\n",
    "       'newcit', 'newcnvtn', 'neweduc', 'newrace', 'nodrug', 'numdepen',\n",
    "       'offguide', 'prisdum', 'probatn', 'probdum', 'quarter', 'reas1',\n",
    "       'reas2', 'reas3', 'regsxmin', 'relmin', 'restdet1', 'restdum', 'safe',\n",
    "       'safety', 'senspcap', 'sensplt0', 'sentimp', 'smax1', 'smin1',\n",
    "       'sources', 'statmax', 'statmin', 'supermax', 'supermin', 'suprdum',\n",
    "       'suprel', 'timservc', 'totchpts', 'totrest', 'totunit', 'typemony',\n",
    "       'typeoths', 'unit1', 'mwgt1', 'wgt1', 'xcrhissr', 'xfolsor', 'xmaxsor',\n",
    "       'xminsor', 'sentrnge']"
   ]
  },
  {
   "cell_type": "code",
   "execution_count": 3,
   "id": "34839044-6c10-446c-a13b-5b72042599a2",
   "metadata": {},
   "outputs": [],
   "source": [
    "def get_csv(filepath):\n",
    "    df = pd.read_csv(filepath)\n",
    "    df.columns = [col.lower() for col in df.columns]\n",
    "    return df"
   ]
  },
  {
   "cell_type": "code",
   "execution_count": 4,
   "id": "1625b1c1-f993-4c9f-bcc3-9c15d691f20d",
   "metadata": {},
   "outputs": [],
   "source": [
    "df_2018_raw = get_csv('~/Desktop/opafy18nid.csv')"
   ]
  },
  {
   "cell_type": "code",
   "execution_count": null,
   "id": "e55fa341-7227-4a14-8f82-bc3aef4a954a",
   "metadata": {},
   "outputs": [
    {
     "data": {
      "text/html": [
       "<div>\n",
       "<style scoped>\n",
       "    .dataframe tbody tr th:only-of-type {\n",
       "        vertical-align: middle;\n",
       "    }\n",
       "\n",
       "    .dataframe tbody tr th {\n",
       "        vertical-align: top;\n",
       "    }\n",
       "\n",
       "    .dataframe thead th {\n",
       "        text-align: right;\n",
       "    }\n",
       "</style>\n",
       "<table border=\"1\" class=\"dataframe\">\n",
       "  <thead>\n",
       "    <tr style=\"text-align: right;\">\n",
       "      <th></th>\n",
       "      <th>pooffice</th>\n",
       "      <th>zone</th>\n",
       "      <th>sorgdl</th>\n",
       "      <th>descrip1</th>\n",
       "      <th>descrip2</th>\n",
       "      <th>descrip3</th>\n",
       "      <th>descrip4</th>\n",
       "      <th>descrip5</th>\n",
       "      <th>descrip6</th>\n",
       "      <th>descrip7</th>\n",
       "      <th>...</th>\n",
       "      <th>retext28</th>\n",
       "      <th>retext29</th>\n",
       "      <th>retext30</th>\n",
       "      <th>retext31</th>\n",
       "      <th>retext32</th>\n",
       "      <th>retext33</th>\n",
       "      <th>retext34</th>\n",
       "      <th>retext35</th>\n",
       "      <th>pcntdept</th>\n",
       "      <th>mnthdept</th>\n",
       "    </tr>\n",
       "  </thead>\n",
       "  <tbody>\n",
       "    <tr>\n",
       "      <th>0</th>\n",
       "      <td>3</td>\n",
       "      <td>D</td>\n",
       "      <td>NaN</td>\n",
       "      <td>NaN</td>\n",
       "      <td>NaN</td>\n",
       "      <td>NaN</td>\n",
       "      <td>NaN</td>\n",
       "      <td>NaN</td>\n",
       "      <td>NaN</td>\n",
       "      <td>NaN</td>\n",
       "      <td>...</td>\n",
       "      <td>NaN</td>\n",
       "      <td>NaN</td>\n",
       "      <td>NaN</td>\n",
       "      <td>NaN</td>\n",
       "      <td>NaN</td>\n",
       "      <td>NaN</td>\n",
       "      <td>NaN</td>\n",
       "      <td>NaN</td>\n",
       "      <td>8.510638</td>\n",
       "      <td>16.0</td>\n",
       "    </tr>\n",
       "    <tr>\n",
       "      <th>1</th>\n",
       "      <td>2</td>\n",
       "      <td>A</td>\n",
       "      <td>NaN</td>\n",
       "      <td>NaN</td>\n",
       "      <td>NaN</td>\n",
       "      <td>NaN</td>\n",
       "      <td>NaN</td>\n",
       "      <td>NaN</td>\n",
       "      <td>NaN</td>\n",
       "      <td>NaN</td>\n",
       "      <td>...</td>\n",
       "      <td>NaN</td>\n",
       "      <td>NaN</td>\n",
       "      <td>NaN</td>\n",
       "      <td>NaN</td>\n",
       "      <td>NaN</td>\n",
       "      <td>NaN</td>\n",
       "      <td>NaN</td>\n",
       "      <td>NaN</td>\n",
       "      <td>NaN</td>\n",
       "      <td>NaN</td>\n",
       "    </tr>\n",
       "    <tr>\n",
       "      <th>2</th>\n",
       "      <td>1</td>\n",
       "      <td>C</td>\n",
       "      <td>NaN</td>\n",
       "      <td>NaN</td>\n",
       "      <td>NaN</td>\n",
       "      <td>NaN</td>\n",
       "      <td>NaN</td>\n",
       "      <td>NaN</td>\n",
       "      <td>NaN</td>\n",
       "      <td>NaN</td>\n",
       "      <td>...</td>\n",
       "      <td>NaN</td>\n",
       "      <td>NaN</td>\n",
       "      <td>NaN</td>\n",
       "      <td>NaN</td>\n",
       "      <td>NaN</td>\n",
       "      <td>NaN</td>\n",
       "      <td>NaN</td>\n",
       "      <td>NaN</td>\n",
       "      <td>40.000000</td>\n",
       "      <td>4.0</td>\n",
       "    </tr>\n",
       "    <tr>\n",
       "      <th>3</th>\n",
       "      <td>2</td>\n",
       "      <td>B</td>\n",
       "      <td>NaN</td>\n",
       "      <td>NaN</td>\n",
       "      <td>NaN</td>\n",
       "      <td>NaN</td>\n",
       "      <td>NaN</td>\n",
       "      <td>NaN</td>\n",
       "      <td>NaN</td>\n",
       "      <td>NaN</td>\n",
       "      <td>...</td>\n",
       "      <td>NaN</td>\n",
       "      <td>NaN</td>\n",
       "      <td>NaN</td>\n",
       "      <td>NaN</td>\n",
       "      <td>NaN</td>\n",
       "      <td>NaN</td>\n",
       "      <td>NaN</td>\n",
       "      <td>NaN</td>\n",
       "      <td>50.000000</td>\n",
       "      <td>4.0</td>\n",
       "    </tr>\n",
       "    <tr>\n",
       "      <th>4</th>\n",
       "      <td>1</td>\n",
       "      <td>A</td>\n",
       "      <td>NaN</td>\n",
       "      <td>NaN</td>\n",
       "      <td>NaN</td>\n",
       "      <td>NaN</td>\n",
       "      <td>NaN</td>\n",
       "      <td>NaN</td>\n",
       "      <td>NaN</td>\n",
       "      <td>NaN</td>\n",
       "      <td>...</td>\n",
       "      <td>NaN</td>\n",
       "      <td>NaN</td>\n",
       "      <td>NaN</td>\n",
       "      <td>NaN</td>\n",
       "      <td>NaN</td>\n",
       "      <td>NaN</td>\n",
       "      <td>NaN</td>\n",
       "      <td>NaN</td>\n",
       "      <td>NaN</td>\n",
       "      <td>NaN</td>\n",
       "    </tr>\n",
       "  </tbody>\n",
       "</table>\n",
       "<p>5 rows × 27693 columns</p>\n",
       "</div>"
      ],
      "text/plain": [
       "  pooffice zone sorgdl descrip1 descrip2 descrip3 descrip4 descrip5 descrip6  \\\n",
       "0        3    D    NaN      NaN      NaN      NaN      NaN      NaN      NaN   \n",
       "1        2    A    NaN      NaN      NaN      NaN      NaN      NaN      NaN   \n",
       "2        1    C    NaN      NaN      NaN      NaN      NaN      NaN      NaN   \n",
       "3        2    B    NaN      NaN      NaN      NaN      NaN      NaN      NaN   \n",
       "4        1    A    NaN      NaN      NaN      NaN      NaN      NaN      NaN   \n",
       "\n",
       "  descrip7  ... retext28 retext29  retext30 retext31  retext32  retext33  \\\n",
       "0      NaN  ...      NaN      NaN       NaN      NaN       NaN       NaN   \n",
       "1      NaN  ...      NaN      NaN       NaN      NaN       NaN       NaN   \n",
       "2      NaN  ...      NaN      NaN       NaN      NaN       NaN       NaN   \n",
       "3      NaN  ...      NaN      NaN       NaN      NaN       NaN       NaN   \n",
       "4      NaN  ...      NaN      NaN       NaN      NaN       NaN       NaN   \n",
       "\n",
       "   retext34 retext35   pcntdept mnthdept  \n",
       "0       NaN      NaN   8.510638     16.0  \n",
       "1       NaN      NaN        NaN      NaN  \n",
       "2       NaN      NaN  40.000000      4.0  \n",
       "3       NaN      NaN  50.000000      4.0  \n",
       "4       NaN      NaN        NaN      NaN  \n",
       "\n",
       "[5 rows x 27693 columns]"
      ]
     },
     "execution_count": 5,
     "metadata": {},
     "output_type": "execute_result"
    }
   ],
   "source": [
    "df_2018 = df_2018_raw.copy()\n",
    "df_2018.head()"
   ]
  },
  {
   "cell_type": "code",
   "execution_count": 6,
   "id": "10aef244-9caf-48fb-add6-38f918a51dc9",
   "metadata": {},
   "outputs": [],
   "source": [
    "df_2018.drop(columns = [col for col in df_2018.columns if col not in features_hardcoded], inplace = True)"
   ]
  },
  {
   "cell_type": "code",
   "execution_count": 7,
   "id": "52f4e3fb-2b55-4abe-bf0f-d16229d10141",
   "metadata": {},
   "outputs": [
    {
     "data": {
      "text/plain": [
       "set()"
      ]
     },
     "execution_count": 7,
     "metadata": {},
     "output_type": "execute_result"
    }
   ],
   "source": [
    "set(features_hardcoded).symmetric_difference(set(df_2018.columns))"
   ]
  },
  {
   "cell_type": "code",
   "execution_count": 8,
   "id": "88c2faca-ef93-499f-8d6b-f2580c27f8bf",
   "metadata": {},
   "outputs": [],
   "source": [
    "df_2018.to_csv('data/2018_feats.csv')"
   ]
  },
  {
   "cell_type": "code",
   "execution_count": 9,
   "id": "4dc29182-f952-4f08-91ea-adaedd28f686",
   "metadata": {},
   "outputs": [],
   "source": [
    "df_2019_raw = get_csv('~/Desktop/opafy19nid.csv')"
   ]
  },
  {
   "cell_type": "code",
   "execution_count": 10,
   "id": "df9f5c6f-f561-4348-8dd2-a8d2cfe01934",
   "metadata": {
    "tags": []
   },
   "outputs": [],
   "source": [
    "df_2019 = df_2019_raw.copy()\n",
    "df_2019.drop(columns = [col for col in df_2019.columns if col not in features_hardcoded], inplace = True)"
   ]
  },
  {
   "cell_type": "code",
   "execution_count": 11,
   "id": "e2a8ab42-d4ac-4145-a857-550528fccab8",
   "metadata": {},
   "outputs": [
    {
     "data": {
      "text/plain": [
       "set()"
      ]
     },
     "execution_count": 11,
     "metadata": {},
     "output_type": "execute_result"
    }
   ],
   "source": [
    "set(features_hardcoded).symmetric_difference(set(df_2019.columns))"
   ]
  },
  {
   "cell_type": "code",
   "execution_count": 12,
   "id": "192385ae-33ec-446e-aa2c-548688b0a893",
   "metadata": {},
   "outputs": [],
   "source": [
    "df_2019.to_csv('data/2019_feats.csv')"
   ]
  },
  {
   "cell_type": "code",
   "execution_count": 13,
   "id": "4ab8a618-dcef-4d5c-b0b5-7ab2af89417a",
   "metadata": {},
   "outputs": [
    {
     "data": {
      "text/plain": [
       "(76538, 64)"
      ]
     },
     "execution_count": 13,
     "metadata": {},
     "output_type": "execute_result"
    }
   ],
   "source": [
    "df_2019.shape"
   ]
  },
  {
   "cell_type": "code",
   "execution_count": 3,
   "id": "d5277b5e-ea9e-4274-b0b7-1862c99e8726",
   "metadata": {},
   "outputs": [],
   "source": [
    "df_2020 = pd.read_csv('data/drugs_cleaner.csv')"
   ]
  },
  {
   "cell_type": "code",
   "execution_count": 21,
   "id": "ee532347-29d7-42cc-babe-4ec9393080f4",
   "metadata": {},
   "outputs": [],
   "source": [
    "df_2020.drop(columns = [col for col in df_2020.columns if col.lower() not in features_hardcoded], inplace = True)"
   ]
  },
  {
   "cell_type": "code",
   "execution_count": 22,
   "id": "82dffbdf-fd48-4b51-a83f-d403a6c3c9cf",
   "metadata": {},
   "outputs": [
    {
     "data": {
      "text/plain": [
       "(16829, 64)"
      ]
     },
     "execution_count": 22,
     "metadata": {},
     "output_type": "execute_result"
    }
   ],
   "source": [
    "df_2020.shape"
   ]
  },
  {
   "cell_type": "code",
   "execution_count": 39,
   "id": "7b3f727f-9c5c-449b-b8d5-a27aee22f1e8",
   "metadata": {},
   "outputs": [],
   "source": [
    "df_2020.columns = df_2018.columns"
   ]
  },
  {
   "cell_type": "code",
   "execution_count": 40,
   "id": "372546ea-300c-48a8-8c89-438b312c4bab",
   "metadata": {},
   "outputs": [
    {
     "data": {
      "text/plain": [
       "(69425, 64)"
      ]
     },
     "execution_count": 40,
     "metadata": {},
     "output_type": "execute_result"
    }
   ],
   "source": [
    "df_2018.shape"
   ]
  },
  {
   "cell_type": "code",
   "execution_count": 41,
   "id": "58645c45-a3dd-446b-bed9-e569c22c0598",
   "metadata": {},
   "outputs": [
    {
     "data": {
      "text/plain": [
       "161892"
      ]
     },
     "execution_count": 41,
     "metadata": {},
     "output_type": "execute_result"
    }
   ],
   "source": [
    "x = 16829 + 69425 + 75638\n",
    "x"
   ]
  },
  {
   "cell_type": "code",
   "execution_count": 42,
   "id": "5d69e8f3-c538-45d5-8778-1b719dcdf30d",
   "metadata": {},
   "outputs": [],
   "source": [
    "aggregate = pd.concat([df_2018, df_2019, df_2020])"
   ]
  },
  {
   "cell_type": "code",
   "execution_count": 43,
   "id": "127aa20f-c540-4640-bfb2-6d18dc27270f",
   "metadata": {},
   "outputs": [
    {
     "data": {
      "text/plain": [
       "(162792, 64)"
      ]
     },
     "execution_count": 43,
     "metadata": {},
     "output_type": "execute_result"
    }
   ],
   "source": [
    "aggregate.shape"
   ]
  },
  {
   "cell_type": "code",
   "execution_count": 44,
   "id": "0d2b43cd-3537-4acc-bfe7-25770b4f5110",
   "metadata": {},
   "outputs": [],
   "source": [
    "aggregate.to_csv('data/aggregate_years.csv', index = False)"
   ]
  },
  {
   "cell_type": "code",
   "execution_count": 4,
   "id": "ae7b6450-19d7-4829-a9b2-3936a9bcf949",
   "metadata": {},
   "outputs": [
    {
     "data": {
      "text/plain": [
       "(16829, 70)"
      ]
     },
     "execution_count": 4,
     "metadata": {},
     "output_type": "execute_result"
    }
   ],
   "source": [
    "df_2020.shape"
   ]
  },
  {
   "cell_type": "code",
   "execution_count": 5,
   "id": "64fbae8e-7d65-4f59-9138-6cd8bcd9d82c",
   "metadata": {},
   "outputs": [],
   "source": [
    "df = pd.read_csv('data/drugs_2020_simply_imputed.csv')"
   ]
  },
  {
   "cell_type": "code",
   "execution_count": 6,
   "id": "e3f60089-769a-4a8b-810a-70b556dbc9ba",
   "metadata": {},
   "outputs": [
    {
     "data": {
      "text/plain": [
       "(16829, 64)"
      ]
     },
     "execution_count": 6,
     "metadata": {},
     "output_type": "execute_result"
    }
   ],
   "source": [
    "df.shape"
   ]
  },
  {
   "cell_type": "code",
   "execution_count": null,
   "id": "c7f51cea-b053-43fb-ad5f-ee08ffd3e47a",
   "metadata": {},
   "outputs": [],
   "source": []
  }
 ],
 "metadata": {
  "kernelspec": {
   "display_name": "Python 3",
   "language": "python",
   "name": "python3"
  },
  "language_info": {
   "codemirror_mode": {
    "name": "ipython",
    "version": 3
   },
   "file_extension": ".py",
   "mimetype": "text/x-python",
   "name": "python",
   "nbconvert_exporter": "python",
   "pygments_lexer": "ipython3",
   "version": "3.8.8"
  }
 },
 "nbformat": 4,
 "nbformat_minor": 5
}

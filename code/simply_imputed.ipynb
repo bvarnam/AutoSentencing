{
 "cells": [
  {
   "cell_type": "code",
   "execution_count": 49,
   "id": "baa8a7d8-7fa7-4a4d-a7a5-132b5a034eb2",
   "metadata": {},
   "outputs": [],
   "source": [
    "import pandas as pd\n",
    "import numpy as np"
   ]
  },
  {
   "cell_type": "code",
   "execution_count": 50,
   "id": "4ba02508-435e-46ad-bbe7-91f10602a276",
   "metadata": {},
   "outputs": [],
   "source": [
    "df = pd.read_csv('drugs_cleaner.csv')"
   ]
  },
  {
   "cell_type": "code",
   "execution_count": 51,
   "id": "3b65ea2a-f613-45f9-b7ac-25502668e28d",
   "metadata": {},
   "outputs": [],
   "source": [
    "numeric_cols = ['AGE', 'AMENDYR', 'AMTTOTAL', 'DRUGMIN', 'METHMIN', 'MWEIGHT', 'NODRUG',\n",
    "               'NUMDEPEN', 'PROBATN', 'REGEXMIN', 'RELMIN', 'SENSPCAP', 'SENSPLT0',\n",
    "               'SMAX1', 'SMIN1', 'STATMAX', 'STATMIN', 'SUPERMAX', 'SUPERMIN', 'SUPREL',\n",
    "                'TIMESERVC', 'TOTCHPTS', 'TOTREST', 'TOTUNIT','MWGT1', 'WGT1', 'XFOLSOR',\n",
    "                'XMAXSOR', 'XMINSOR'\n",
    "               ]\n",
    "\n",
    "categorical_cols = ['ACCGDLN', 'ALTDUM', 'CASETYPE', 'CITWHERE', 'COMBDRG2', 'CRIMHIST', \n",
    "                   'DISPOSIT', 'DISTRICT', 'DSPLEA', 'EDUCATN', 'INTDUM', 'MONRACE',\n",
    "                   'MONSEX', 'NEWCIT', 'NEWCNVTN', 'NEWEDUC', 'NEWRACE', 'OFFGUIDE', \n",
    "                   'PRISDUM', 'PROBDUM', 'QUARTER', 'REAS1', 'REAS2', 'REAS3', 'RESTDET1',\n",
    "                   'RESTDUM', 'SAFE', 'SAFETY', 'SENTIMP', 'SOURCES', 'SUPRDUM', 'TYPEMONY',\n",
    "                    'TYPEOTHS', 'UNIT1', 'XCRHISSR', 'SENTRNGE'\n",
    "                   ]"
   ]
  },
  {
   "cell_type": "code",
   "execution_count": 52,
   "id": "02b9b58a-914f-44a2-90fd-cf8b0b2b37ab",
   "metadata": {},
   "outputs": [],
   "source": [
    "df = df.drop(columns = ['TOTUNIT.1', 'TOTUNIT.2', 'TOTUNIT.3', 'AGECAT'])"
   ]
  },
  {
   "cell_type": "code",
   "execution_count": 53,
   "id": "42c3f0a9-967e-4b57-a461-55f9d2572d47",
   "metadata": {},
   "outputs": [],
   "source": [
    "def mm_impute(df, mode_cols, mean_cols):\n",
    "    for col in df.columns:\n",
    "        if col in mode_cols:\n",
    "            mode = df[col].value_counts().index[0]\n",
    "            if not mode:\n",
    "                mode = df[col].value_counts().index[1]\n",
    "            df[col] = df[col].fillna(value = mode)\n",
    "        elif col in mean_cols:\n",
    "            df[col] = df[col].fillna(value = df[col].mean())\n",
    "    return df"
   ]
  },
  {
   "cell_type": "code",
   "execution_count": 54,
   "id": "b79e10d4-29e4-4f36-80da-c74ac11c8467",
   "metadata": {},
   "outputs": [],
   "source": [
    "df = mm_impute(df, categorical_cols, numeric_cols)"
   ]
  },
  {
   "cell_type": "code",
   "execution_count": 57,
   "id": "e3204209-664f-4e4d-894e-d99f594eb8a0",
   "metadata": {},
   "outputs": [
    {
     "data": {
      "text/plain": [
       "Unnamed: 0    False\n",
       "ACCGDLN       False\n",
       "AGE           False\n",
       "ALTDUM        False\n",
       "AMENDYR       False\n",
       "              ...  \n",
       "XCRHISSR      False\n",
       "XFOLSOR       False\n",
       "XMAXSOR       False\n",
       "XMINSOR       False\n",
       "SENTRNGE      False\n",
       "Length: 66, dtype: bool"
      ]
     },
     "execution_count": 57,
     "metadata": {},
     "output_type": "execute_result"
    }
   ],
   "source": [
    "df.isna().sum() != 0"
   ]
  },
  {
   "cell_type": "code",
   "execution_count": 58,
   "id": "f9ca2447-b7b8-4380-b01d-a16f05e6d7b9",
   "metadata": {},
   "outputs": [],
   "source": [
    "df.to_csv('drugs_2020_simply_imputed.csv')"
   ]
  }
 ],
 "metadata": {
  "kernelspec": {
   "display_name": "Python 3",
   "language": "python",
   "name": "python3"
  },
  "language_info": {
   "codemirror_mode": {
    "name": "ipython",
    "version": 3
   },
   "file_extension": ".py",
   "mimetype": "text/x-python",
   "name": "python",
   "nbconvert_exporter": "python",
   "pygments_lexer": "ipython3",
   "version": "3.8.8"
  }
 },
 "nbformat": 4,
 "nbformat_minor": 5
}

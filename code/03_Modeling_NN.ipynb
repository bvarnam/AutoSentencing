{
 "cells": [
  {
   "cell_type": "markdown",
   "id": "281e6543",
   "metadata": {},
   "source": [
    "# Neural Network Classifier \n",
    "---"
   ]
  },
  {
   "cell_type": "markdown",
   "id": "1984f63b",
   "metadata": {},
   "source": [
    "# Imports"
   ]
  },
  {
   "cell_type": "code",
   "execution_count": 1,
   "id": "bfb96bfe",
   "metadata": {},
   "outputs": [],
   "source": [
    "import pandas as pd\n",
    "import numpy as np\n",
    "import matplotlib.pyplot as plt\n",
    "import seaborn as sns\n",
    "%matplotlib inline\n",
    "\n",
    "from sklearn import metrics\n",
    "from sklearn.model_selection import train_test_split, GridSearchCV\n",
    "from sklearn.preprocessing import StandardScaler\n",
    "\n",
    "import tensorflow as tf\n",
    "from tensorflow.keras.models import Sequential\n",
    "from tensorflow.keras.layers import Dense, GRU\n",
    "from tensorflow.keras.layers import Dropout\n",
    "from tensorflow.keras.callbacks import EarlyStopping\n",
    "from tensorflow.keras.wrappers.scikit_learn import KerasClassifier\n",
    "\n",
    "from imblearn.under_sampling import NearMiss, RandomUnderSampler\n",
    "from imblearn.over_sampling import SMOTE, RandomOverSampler\n",
    "from collections import Counter\n",
    "\n",
    "import pickle"
   ]
  },
  {
   "cell_type": "code",
   "execution_count": 2,
   "id": "fa43bdaa",
   "metadata": {},
   "outputs": [],
   "source": [
    "from numpy.random import seed\n",
    "seed(1)\n",
    "\n",
    "# Set random seed\n",
    "tf.random.set_seed(42)"
   ]
  },
  {
   "cell_type": "markdown",
   "id": "b058a9af",
   "metadata": {},
   "source": [
    "# Read in Data\n",
    "\n",
    "Import data and observe the basics"
   ]
  },
  {
   "cell_type": "code",
   "execution_count": 3,
   "id": "ddf8500e",
   "metadata": {
    "scrolled": false
   },
   "outputs": [
    {
     "name": "stdout",
     "output_type": "stream",
     "text": [
      "(16829, 64)\n"
     ]
    },
    {
     "data": {
      "text/html": [
       "<div>\n",
       "<style scoped>\n",
       "    .dataframe tbody tr th:only-of-type {\n",
       "        vertical-align: middle;\n",
       "    }\n",
       "\n",
       "    .dataframe tbody tr th {\n",
       "        vertical-align: top;\n",
       "    }\n",
       "\n",
       "    .dataframe thead th {\n",
       "        text-align: right;\n",
       "    }\n",
       "</style>\n",
       "<table border=\"1\" class=\"dataframe\">\n",
       "  <thead>\n",
       "    <tr style=\"text-align: right;\">\n",
       "      <th></th>\n",
       "      <th>accgdln</th>\n",
       "      <th>age</th>\n",
       "      <th>altdum</th>\n",
       "      <th>amttotal</th>\n",
       "      <th>casetype</th>\n",
       "      <th>citwhere</th>\n",
       "      <th>combdrg2</th>\n",
       "      <th>crimhist</th>\n",
       "      <th>disposit</th>\n",
       "      <th>district</th>\n",
       "      <th>...</th>\n",
       "      <th>typemony</th>\n",
       "      <th>typeoths</th>\n",
       "      <th>unit1</th>\n",
       "      <th>mwgt1</th>\n",
       "      <th>wgt1</th>\n",
       "      <th>xcrhissr</th>\n",
       "      <th>xfolsor</th>\n",
       "      <th>xmaxsor</th>\n",
       "      <th>xminsor</th>\n",
       "      <th>sentrnge</th>\n",
       "    </tr>\n",
       "  </thead>\n",
       "  <tbody>\n",
       "    <tr>\n",
       "      <th>0</th>\n",
       "      <td>1.0</td>\n",
       "      <td>20.0</td>\n",
       "      <td>0</td>\n",
       "      <td>0</td>\n",
       "      <td>1.0</td>\n",
       "      <td>211.0</td>\n",
       "      <td>6.0</td>\n",
       "      <td>1.0</td>\n",
       "      <td>1</td>\n",
       "      <td>43</td>\n",
       "      <td>...</td>\n",
       "      <td>1.0</td>\n",
       "      <td>0</td>\n",
       "      <td>1.0</td>\n",
       "      <td>6.356099e+07</td>\n",
       "      <td>85104.433315</td>\n",
       "      <td>1.0</td>\n",
       "      <td>17.0</td>\n",
       "      <td>30.0</td>\n",
       "      <td>24.0</td>\n",
       "      <td>8.0</td>\n",
       "    </tr>\n",
       "    <tr>\n",
       "      <th>1</th>\n",
       "      <td>1.0</td>\n",
       "      <td>64.0</td>\n",
       "      <td>0</td>\n",
       "      <td>0</td>\n",
       "      <td>1.0</td>\n",
       "      <td>211.0</td>\n",
       "      <td>1.0</td>\n",
       "      <td>1.0</td>\n",
       "      <td>1</td>\n",
       "      <td>51</td>\n",
       "      <td>...</td>\n",
       "      <td>1.0</td>\n",
       "      <td>0</td>\n",
       "      <td>1.0</td>\n",
       "      <td>1.193400e+06</td>\n",
       "      <td>5967.000000</td>\n",
       "      <td>3.0</td>\n",
       "      <td>27.0</td>\n",
       "      <td>108.0</td>\n",
       "      <td>87.0</td>\n",
       "      <td>0.0</td>\n",
       "    </tr>\n",
       "    <tr>\n",
       "      <th>2</th>\n",
       "      <td>1.0</td>\n",
       "      <td>28.0</td>\n",
       "      <td>0</td>\n",
       "      <td>0</td>\n",
       "      <td>1.0</td>\n",
       "      <td>211.0</td>\n",
       "      <td>3.0</td>\n",
       "      <td>1.0</td>\n",
       "      <td>1</td>\n",
       "      <td>48</td>\n",
       "      <td>...</td>\n",
       "      <td>1.0</td>\n",
       "      <td>0</td>\n",
       "      <td>2.0</td>\n",
       "      <td>2.000000e+06</td>\n",
       "      <td>2000.000000</td>\n",
       "      <td>6.0</td>\n",
       "      <td>27.0</td>\n",
       "      <td>162.0</td>\n",
       "      <td>130.0</td>\n",
       "      <td>2.0</td>\n",
       "    </tr>\n",
       "    <tr>\n",
       "      <th>3</th>\n",
       "      <td>2.0</td>\n",
       "      <td>55.0</td>\n",
       "      <td>0</td>\n",
       "      <td>0</td>\n",
       "      <td>1.0</td>\n",
       "      <td>211.0</td>\n",
       "      <td>77.0</td>\n",
       "      <td>1.0</td>\n",
       "      <td>1</td>\n",
       "      <td>65</td>\n",
       "      <td>...</td>\n",
       "      <td>1.0</td>\n",
       "      <td>0</td>\n",
       "      <td>1.0</td>\n",
       "      <td>1.030000e+04</td>\n",
       "      <td>4.120000</td>\n",
       "      <td>5.0</td>\n",
       "      <td>13.0</td>\n",
       "      <td>37.0</td>\n",
       "      <td>30.0</td>\n",
       "      <td>0.0</td>\n",
       "    </tr>\n",
       "    <tr>\n",
       "      <th>4</th>\n",
       "      <td>1.0</td>\n",
       "      <td>30.0</td>\n",
       "      <td>0</td>\n",
       "      <td>0</td>\n",
       "      <td>1.0</td>\n",
       "      <td>211.0</td>\n",
       "      <td>6.0</td>\n",
       "      <td>1.0</td>\n",
       "      <td>1</td>\n",
       "      <td>87</td>\n",
       "      <td>...</td>\n",
       "      <td>1.0</td>\n",
       "      <td>0</td>\n",
       "      <td>1.0</td>\n",
       "      <td>1.692000e+05</td>\n",
       "      <td>84.600000</td>\n",
       "      <td>6.0</td>\n",
       "      <td>25.0</td>\n",
       "      <td>137.0</td>\n",
       "      <td>110.0</td>\n",
       "      <td>2.0</td>\n",
       "    </tr>\n",
       "  </tbody>\n",
       "</table>\n",
       "<p>5 rows × 64 columns</p>\n",
       "</div>"
      ],
      "text/plain": [
       "   accgdln   age  altdum  amttotal  casetype  citwhere  combdrg2  crimhist  \\\n",
       "0      1.0  20.0       0         0       1.0     211.0       6.0       1.0   \n",
       "1      1.0  64.0       0         0       1.0     211.0       1.0       1.0   \n",
       "2      1.0  28.0       0         0       1.0     211.0       3.0       1.0   \n",
       "3      2.0  55.0       0         0       1.0     211.0      77.0       1.0   \n",
       "4      1.0  30.0       0         0       1.0     211.0       6.0       1.0   \n",
       "\n",
       "   disposit  district  ...  typemony  typeoths  unit1         mwgt1  \\\n",
       "0         1        43  ...       1.0         0    1.0  6.356099e+07   \n",
       "1         1        51  ...       1.0         0    1.0  1.193400e+06   \n",
       "2         1        48  ...       1.0         0    2.0  2.000000e+06   \n",
       "3         1        65  ...       1.0         0    1.0  1.030000e+04   \n",
       "4         1        87  ...       1.0         0    1.0  1.692000e+05   \n",
       "\n",
       "           wgt1  xcrhissr  xfolsor  xmaxsor  xminsor  sentrnge  \n",
       "0  85104.433315       1.0     17.0     30.0     24.0       8.0  \n",
       "1   5967.000000       3.0     27.0    108.0     87.0       0.0  \n",
       "2   2000.000000       6.0     27.0    162.0    130.0       2.0  \n",
       "3      4.120000       5.0     13.0     37.0     30.0       0.0  \n",
       "4     84.600000       6.0     25.0    137.0    110.0       2.0  \n",
       "\n",
       "[5 rows x 64 columns]"
      ]
     },
     "execution_count": 3,
     "metadata": {},
     "output_type": "execute_result"
    }
   ],
   "source": [
    "csv_file = \"../data/drugs_2020_simply_imputed.csv\"\n",
    "df = pd.read_csv(csv_file)\n",
    "print(df.shape)\n",
    "df.head()"
   ]
  },
  {
   "cell_type": "markdown",
   "id": "550fed52",
   "metadata": {},
   "source": [
    "> **16829 rows and 67 columns**\n",
    ">> **However some of these columns are dropped and one is our target columns, PRISDUM**"
   ]
  },
  {
   "cell_type": "code",
   "execution_count": 4,
   "id": "7ddb9432",
   "metadata": {
    "scrolled": true
   },
   "outputs": [
    {
     "data": {
      "text/plain": [
       "Index(['accgdln', 'age', 'altdum', 'amttotal', 'casetype', 'citwhere',\n",
       "       'combdrg2', 'crimhist', 'disposit', 'district', 'drugmin', 'dsplea',\n",
       "       'educatn', 'intdum', 'methmin', 'monrace', 'monsex', 'mweight',\n",
       "       'newcit', 'newcnvtn', 'neweduc', 'newrace', 'nodrug', 'numdepen',\n",
       "       'offguide', 'prisdum', 'probatn', 'probdum', 'quarter', 'reas1',\n",
       "       'reas2', 'reas3', 'regsxmin', 'relmin', 'restdet1', 'restdum', 'safe',\n",
       "       'safety', 'senspcap', 'sensplt0', 'sentimp', 'smax1', 'smin1',\n",
       "       'sources', 'statmax', 'statmin', 'supermax', 'supermin', 'suprdum',\n",
       "       'suprel', 'timservc', 'totchpts', 'totrest', 'totunit', 'typemony',\n",
       "       'typeoths', 'unit1', 'mwgt1', 'wgt1', 'xcrhissr', 'xfolsor', 'xmaxsor',\n",
       "       'xminsor', 'sentrnge'],\n",
       "      dtype='object')"
      ]
     },
     "execution_count": 4,
     "metadata": {},
     "output_type": "execute_result"
    }
   ],
   "source": [
    "df.columns"
   ]
  },
  {
   "cell_type": "markdown",
   "id": "8b606eea",
   "metadata": {},
   "source": [
    "- Drop the index columns created from saving a DataFrame to a csv.\n",
    "- Also drop the columns we have identified as either too correlated or not useful for our model."
   ]
  },
  {
   "cell_type": "code",
   "execution_count": 5,
   "id": "e9e7dd75",
   "metadata": {},
   "outputs": [],
   "source": [
    "features = ['accgdln', 'casetype', 'combdrg2', 'crimhist', 'disposit', \n",
    "            'district', 'drugmin', 'dsplea', 'intdum', 'methmin', 'mweight','nodrug',\n",
    "            'offguide', 'quarter', 'reas1', 'reas2', 'reas3', 'sources', 'statmax', 'statmin',\n",
    "            \n",
    "            'age', 'newrace', 'monsex', 'monrace', 'neweduc', 'newcnvtn', 'citwhere', 'newcit'\n",
    "           ]"
   ]
  },
  {
   "cell_type": "markdown",
   "id": "38de1d7a",
   "metadata": {},
   "source": [
    "## Train Test Split"
   ]
  },
  {
   "cell_type": "markdown",
   "id": "cbe9a671",
   "metadata": {},
   "source": [
    "Set our X and Y"
   ]
  },
  {
   "cell_type": "code",
   "execution_count": 6,
   "id": "67318b77",
   "metadata": {},
   "outputs": [],
   "source": [
    "X = df[features]\n",
    "y = df['prisdum']"
   ]
  },
  {
   "cell_type": "code",
   "execution_count": 7,
   "id": "a8f3d9f5",
   "metadata": {},
   "outputs": [],
   "source": [
    "X_train, X_test, y_train, y_test = train_test_split(X, y, stratify=y)"
   ]
  },
  {
   "cell_type": "code",
   "execution_count": 8,
   "id": "e4d22ba5",
   "metadata": {},
   "outputs": [],
   "source": [
    "X_no = X.drop(columns=['age', 'newrace', 'monsex', 'monrace', 'neweduc', 'newcnvtn', 'citwhere', 'newcit'])"
   ]
  },
  {
   "cell_type": "code",
   "execution_count": 9,
   "id": "792ca866",
   "metadata": {},
   "outputs": [],
   "source": [
    "X_no_train, X_no_test, y_no_train, y_no_test = train_test_split(X_no, y, stratify=y)"
   ]
  },
  {
   "cell_type": "markdown",
   "id": "829540aa",
   "metadata": {},
   "source": [
    "# Scale Data for Neural Network Classifier"
   ]
  },
  {
   "cell_type": "code",
   "execution_count": 10,
   "id": "8621c173",
   "metadata": {},
   "outputs": [],
   "source": [
    "sc = StandardScaler()\n",
    "X_train_sc = sc.fit_transform(X_train)\n",
    "X_test_sc = sc.transform(X_test)"
   ]
  },
  {
   "cell_type": "code",
   "execution_count": 11,
   "id": "55e99a11",
   "metadata": {},
   "outputs": [],
   "source": [
    "sc = StandardScaler()\n",
    "X_no_train_sc = sc.fit_transform(X_no_train)\n",
    "X_no_test_sc = sc.transform(X_no_test)"
   ]
  },
  {
   "cell_type": "markdown",
   "id": "7cce7d54",
   "metadata": {},
   "source": [
    "### Null Model"
   ]
  },
  {
   "cell_type": "code",
   "execution_count": 12,
   "id": "a1b9fe2c",
   "metadata": {},
   "outputs": [
    {
     "data": {
      "text/plain": [
       "1    0.955196\n",
       "0    0.044804\n",
       "Name: prisdum, dtype: float64"
      ]
     },
     "execution_count": 12,
     "metadata": {},
     "output_type": "execute_result"
    }
   ],
   "source": [
    "y.value_counts(normalize=True)"
   ]
  },
  {
   "cell_type": "markdown",
   "id": "c92d4b27",
   "metadata": {},
   "source": [
    "> We see that we have a very imblanced dataset."
   ]
  },
  {
   "cell_type": "code",
   "execution_count": 13,
   "id": "e27bc1df",
   "metadata": {},
   "outputs": [
    {
     "data": {
      "text/plain": [
       "1    4019\n",
       "0     189\n",
       "Name: prisdum, dtype: int64"
      ]
     },
     "execution_count": 13,
     "metadata": {},
     "output_type": "execute_result"
    }
   ],
   "source": [
    "y_test.value_counts()"
   ]
  },
  {
   "cell_type": "markdown",
   "id": "3c70cf2e",
   "metadata": {},
   "source": [
    "## Model on Imblanced Data"
   ]
  },
  {
   "cell_type": "code",
   "execution_count": 14,
   "id": "908248a3",
   "metadata": {
    "scrolled": true
   },
   "outputs": [
    {
     "name": "stdout",
     "output_type": "stream",
     "text": [
      "Epoch 1/200\n",
      "395/395 [==============================] - 1s 2ms/step - loss: 0.1678 - accuracy: 0.9553 - val_loss: 0.1394 - val_accuracy: 0.9591\n",
      "Epoch 2/200\n",
      "395/395 [==============================] - 1s 2ms/step - loss: 0.1374 - accuracy: 0.9593 - val_loss: 0.1363 - val_accuracy: 0.9589\n",
      "Epoch 3/200\n",
      "395/395 [==============================] - 1s 2ms/step - loss: 0.1300 - accuracy: 0.9589 - val_loss: 0.1363 - val_accuracy: 0.9594\n",
      "Epoch 4/200\n",
      "395/395 [==============================] - 1s 2ms/step - loss: 0.1266 - accuracy: 0.9595 - val_loss: 0.1351 - val_accuracy: 0.9587\n",
      "Epoch 5/200\n",
      "395/395 [==============================] - 1s 2ms/step - loss: 0.1299 - accuracy: 0.9596 - val_loss: 0.1327 - val_accuracy: 0.9589\n",
      "Epoch 6/200\n",
      "395/395 [==============================] - 1s 2ms/step - loss: 0.1244 - accuracy: 0.9599 - val_loss: 0.1328 - val_accuracy: 0.9591\n",
      "Epoch 7/200\n",
      "395/395 [==============================] - 1s 2ms/step - loss: 0.1249 - accuracy: 0.9597 - val_loss: 0.1300 - val_accuracy: 0.9589\n",
      "Epoch 8/200\n",
      "395/395 [==============================] - 1s 2ms/step - loss: 0.1227 - accuracy: 0.9605 - val_loss: 0.1333 - val_accuracy: 0.9582\n",
      "Epoch 9/200\n",
      "395/395 [==============================] - 1s 2ms/step - loss: 0.1214 - accuracy: 0.9604 - val_loss: 0.1326 - val_accuracy: 0.9589\n",
      "Epoch 10/200\n",
      "395/395 [==============================] - 1s 2ms/step - loss: 0.1172 - accuracy: 0.9605 - val_loss: 0.1327 - val_accuracy: 0.9591\n",
      "Epoch 11/200\n",
      "395/395 [==============================] - 1s 2ms/step - loss: 0.1188 - accuracy: 0.9601 - val_loss: 0.1308 - val_accuracy: 0.9594\n",
      "Epoch 12/200\n",
      "395/395 [==============================] - ETA: 0s - loss: 0.1165 - accuracy: 0.96 - 1s 2ms/step - loss: 0.1169 - accuracy: 0.9605 - val_loss: 0.1325 - val_accuracy: 0.9584\n",
      "Epoch 13/200\n",
      "395/395 [==============================] - 1s 2ms/step - loss: 0.1157 - accuracy: 0.9604 - val_loss: 0.1335 - val_accuracy: 0.9575\n",
      "Epoch 14/200\n",
      "395/395 [==============================] - 1s 2ms/step - loss: 0.1156 - accuracy: 0.9601 - val_loss: 0.1351 - val_accuracy: 0.9587\n",
      "Epoch 15/200\n",
      "395/395 [==============================] - 1s 2ms/step - loss: 0.1135 - accuracy: 0.9605 - val_loss: 0.1353 - val_accuracy: 0.9582\n",
      "Epoch 16/200\n",
      "395/395 [==============================] - 1s 2ms/step - loss: 0.1144 - accuracy: 0.9602 - val_loss: 0.1405 - val_accuracy: 0.9587\n",
      "Epoch 17/200\n",
      "395/395 [==============================] - 1s 2ms/step - loss: 0.1126 - accuracy: 0.9609 - val_loss: 0.1429 - val_accuracy: 0.9587\n",
      "Epoch 00017: early stopping\n"
     ]
    }
   ],
   "source": [
    "model = Sequential()\n",
    "model.add(Dense(64, input_shape=(X_train_sc.shape[1],), activation='relu'))\n",
    "model.add(Dropout(0.2))\n",
    "model.add(Dense(128, activation='relu'))\n",
    "model.add(Dropout(0.2))\n",
    "model.add(Dense(64, activation='relu'))\n",
    "model.add(Dropout(0.2))\n",
    "model.add(Dense(1, activation='sigmoid'))\n",
    "\n",
    "model.compile(loss='bce', \n",
    "              optimizer='adam', \n",
    "              metrics=['accuracy'])\n",
    "\n",
    "early_stop = EarlyStopping(monitor='val_loss', patience=10, verbose=1)\n",
    "\n",
    "history = model.fit(\n",
    "    X_train_sc,\n",
    "    y_train,\n",
    "    validation_data=(X_test_sc, y_test),\n",
    "    epochs=200,\n",
    "    callbacks=[early_stop]\n",
    ")"
   ]
  },
  {
   "cell_type": "code",
   "execution_count": 15,
   "id": "8473ce63",
   "metadata": {
    "scrolled": true
   },
   "outputs": [
    {
     "data": {
      "text/html": [
       "<div>\n",
       "<style scoped>\n",
       "    .dataframe tbody tr th:only-of-type {\n",
       "        vertical-align: middle;\n",
       "    }\n",
       "\n",
       "    .dataframe tbody tr th {\n",
       "        vertical-align: top;\n",
       "    }\n",
       "\n",
       "    .dataframe thead th {\n",
       "        text-align: right;\n",
       "    }\n",
       "</style>\n",
       "<table border=\"1\" class=\"dataframe\">\n",
       "  <thead>\n",
       "    <tr style=\"text-align: right;\">\n",
       "      <th></th>\n",
       "      <th>predicted_no_prison</th>\n",
       "      <th>predicted_prison</th>\n",
       "    </tr>\n",
       "  </thead>\n",
       "  <tbody>\n",
       "    <tr>\n",
       "      <th>actual_no_prison</th>\n",
       "      <td>41</td>\n",
       "      <td>148</td>\n",
       "    </tr>\n",
       "    <tr>\n",
       "      <th>actual_prison</th>\n",
       "      <td>26</td>\n",
       "      <td>3993</td>\n",
       "    </tr>\n",
       "  </tbody>\n",
       "</table>\n",
       "</div>"
      ],
      "text/plain": [
       "                  predicted_no_prison  predicted_prison\n",
       "actual_no_prison                   41               148\n",
       "actual_prison                      26              3993"
      ]
     },
     "execution_count": 15,
     "metadata": {},
     "output_type": "execute_result"
    }
   ],
   "source": [
    "preds = np.round(model.predict(X_test_sc),0)\n",
    "tn, fp, fn, tp = metrics.confusion_matrix(y_test, preds).ravel()\n",
    "\n",
    "\n",
    "cm = pd.DataFrame(metrics.confusion_matrix(y_test, preds), \n",
    "                  columns=['predicted_no_prison', 'predicted_prison'], \n",
    "                  index=['actual_no_prison', 'actual_prison']\n",
    "                 )\n",
    "cm"
   ]
  },
  {
   "cell_type": "code",
   "execution_count": 16,
   "id": "b179fb7d",
   "metadata": {
    "scrolled": false
   },
   "outputs": [
    {
     "name": "stdout",
     "output_type": "stream",
     "text": [
      "174\n"
     ]
    }
   ],
   "source": [
    "misclass1 = []\n",
    "for row_index, (input, prediction, label) in enumerate(zip (X_test_sc, preds, y_test)):\n",
    "    if prediction != label:\n",
    "        misclass1.append(row_index)\n",
    "print(len(misclass1))"
   ]
  },
  {
   "cell_type": "markdown",
   "id": "cf79a005",
   "metadata": {},
   "source": [
    "#### Analysis:\n",
    "\n",
    ">loss: 0.1126 - accuracy: 0.9609 - val_loss: 0.1429 - val_accuracy: 0.9587\n",
    "\n",
    "As expected, a very accurate model. However, likely suffering because of the test-set class imbalance as it hardly beats our Null Model of about 95.5%\n",
    "\n",
    "This very high accuracy leads to only 174 misclassifications, 26 of which are in the position we are most interested in; predicted no-prison, actual prison."
   ]
  },
  {
   "cell_type": "markdown",
   "id": "dab44380",
   "metadata": {},
   "source": [
    "### Without Demographic information"
   ]
  },
  {
   "cell_type": "code",
   "execution_count": 17,
   "id": "6e7907ec",
   "metadata": {
    "scrolled": true
   },
   "outputs": [
    {
     "name": "stdout",
     "output_type": "stream",
     "text": [
      "Epoch 1/200\n",
      "395/395 [==============================] - 1s 2ms/step - loss: 0.1682 - accuracy: 0.9530 - val_loss: 0.1536 - val_accuracy: 0.9565\n",
      "Epoch 2/200\n",
      "395/395 [==============================] - 1s 2ms/step - loss: 0.1445 - accuracy: 0.9581 - val_loss: 0.1478 - val_accuracy: 0.9570\n",
      "Epoch 3/200\n",
      "395/395 [==============================] - 1s 2ms/step - loss: 0.1421 - accuracy: 0.9585 - val_loss: 0.1462 - val_accuracy: 0.9575\n",
      "Epoch 4/200\n",
      "395/395 [==============================] - 1s 2ms/step - loss: 0.1389 - accuracy: 0.9590 - val_loss: 0.1442 - val_accuracy: 0.9584\n",
      "Epoch 5/200\n",
      "395/395 [==============================] - 1s 2ms/step - loss: 0.1382 - accuracy: 0.9595 - val_loss: 0.1417 - val_accuracy: 0.9582\n",
      "Epoch 6/200\n",
      "395/395 [==============================] - 1s 2ms/step - loss: 0.1352 - accuracy: 0.9599 - val_loss: 0.1462 - val_accuracy: 0.9577\n",
      "Epoch 7/200\n",
      "395/395 [==============================] - 1s 2ms/step - loss: 0.1349 - accuracy: 0.9608 - val_loss: 0.1463 - val_accuracy: 0.9579\n",
      "Epoch 8/200\n",
      "395/395 [==============================] - 1s 2ms/step - loss: 0.1333 - accuracy: 0.9604 - val_loss: 0.1415 - val_accuracy: 0.9589\n",
      "Epoch 9/200\n",
      "395/395 [==============================] - 1s 2ms/step - loss: 0.1320 - accuracy: 0.9600 - val_loss: 0.1431 - val_accuracy: 0.9582\n",
      "Epoch 10/200\n",
      "395/395 [==============================] - 1s 2ms/step - loss: 0.1309 - accuracy: 0.9602 - val_loss: 0.1435 - val_accuracy: 0.9587\n",
      "Epoch 11/200\n",
      "395/395 [==============================] - 1s 2ms/step - loss: 0.1320 - accuracy: 0.9605 - val_loss: 0.1479 - val_accuracy: 0.9587\n",
      "Epoch 12/200\n",
      "395/395 [==============================] - 1s 2ms/step - loss: 0.1295 - accuracy: 0.9607 - val_loss: 0.1434 - val_accuracy: 0.9587\n",
      "Epoch 13/200\n",
      "395/395 [==============================] - 1s 2ms/step - loss: 0.1292 - accuracy: 0.9601 - val_loss: 0.1438 - val_accuracy: 0.9587\n",
      "Epoch 14/200\n",
      "395/395 [==============================] - 1s 2ms/step - loss: 0.1272 - accuracy: 0.9608 - val_loss: 0.1404 - val_accuracy: 0.9579\n",
      "Epoch 15/200\n",
      "395/395 [==============================] - 1s 2ms/step - loss: 0.1291 - accuracy: 0.9608 - val_loss: 0.1442 - val_accuracy: 0.9587\n",
      "Epoch 16/200\n",
      "395/395 [==============================] - 1s 2ms/step - loss: 0.1261 - accuracy: 0.9611 - val_loss: 0.1458 - val_accuracy: 0.9589\n",
      "Epoch 17/200\n",
      "395/395 [==============================] - 1s 2ms/step - loss: 0.1282 - accuracy: 0.9613 - val_loss: 0.1428 - val_accuracy: 0.9579\n",
      "Epoch 18/200\n",
      "395/395 [==============================] - 1s 2ms/step - loss: 0.1260 - accuracy: 0.9609 - val_loss: 0.1465 - val_accuracy: 0.9589\n",
      "Epoch 19/200\n",
      "395/395 [==============================] - 1s 2ms/step - loss: 0.1279 - accuracy: 0.9603 - val_loss: 0.1489 - val_accuracy: 0.9589\n",
      "Epoch 20/200\n",
      "395/395 [==============================] - 1s 2ms/step - loss: 0.1269 - accuracy: 0.9603 - val_loss: 0.1490 - val_accuracy: 0.9589\n",
      "Epoch 21/200\n",
      "395/395 [==============================] - 1s 2ms/step - loss: 0.1267 - accuracy: 0.9605 - val_loss: 0.1612 - val_accuracy: 0.9589\n",
      "Epoch 22/200\n",
      "395/395 [==============================] - 1s 2ms/step - loss: 0.1258 - accuracy: 0.9609 - val_loss: 0.1559 - val_accuracy: 0.9582\n",
      "Epoch 23/200\n",
      "395/395 [==============================] - 1s 2ms/step - loss: 0.1253 - accuracy: 0.9608 - val_loss: 0.1656 - val_accuracy: 0.9584\n",
      "Epoch 24/200\n",
      "395/395 [==============================] - 1s 2ms/step - loss: 0.1251 - accuracy: 0.9608 - val_loss: 0.1591 - val_accuracy: 0.9587\n",
      "Epoch 00024: early stopping\n"
     ]
    }
   ],
   "source": [
    "model = Sequential()\n",
    "model.add(Dense(64, input_shape=(X_no_train_sc.shape[1],), activation='relu'))\n",
    "model.add(Dropout(0.2))\n",
    "model.add(Dense(128, activation='relu'))\n",
    "model.add(Dropout(0.2))\n",
    "model.add(Dense(64, activation='relu'))\n",
    "model.add(Dropout(0.2))\n",
    "model.add(Dense(1, activation='sigmoid'))\n",
    "\n",
    "model.compile(loss='bce', \n",
    "              optimizer='adam', \n",
    "              metrics=['accuracy'])\n",
    "\n",
    "early_stop = EarlyStopping(monitor='val_loss', patience=10, verbose=1)\n",
    "\n",
    "history = model.fit(\n",
    "    X_no_train_sc,\n",
    "    y_no_train,\n",
    "    validation_data=(X_no_test_sc, y_no_test),\n",
    "    epochs=200,\n",
    "    callbacks=[early_stop]\n",
    ")"
   ]
  },
  {
   "cell_type": "code",
   "execution_count": 18,
   "id": "f8b3a5de",
   "metadata": {},
   "outputs": [
    {
     "data": {
      "text/html": [
       "<div>\n",
       "<style scoped>\n",
       "    .dataframe tbody tr th:only-of-type {\n",
       "        vertical-align: middle;\n",
       "    }\n",
       "\n",
       "    .dataframe tbody tr th {\n",
       "        vertical-align: top;\n",
       "    }\n",
       "\n",
       "    .dataframe thead th {\n",
       "        text-align: right;\n",
       "    }\n",
       "</style>\n",
       "<table border=\"1\" class=\"dataframe\">\n",
       "  <thead>\n",
       "    <tr style=\"text-align: right;\">\n",
       "      <th></th>\n",
       "      <th>predicted_no_prison</th>\n",
       "      <th>predicted_prison</th>\n",
       "    </tr>\n",
       "  </thead>\n",
       "  <tbody>\n",
       "    <tr>\n",
       "      <th>actual_no_prison</th>\n",
       "      <td>33</td>\n",
       "      <td>156</td>\n",
       "    </tr>\n",
       "    <tr>\n",
       "      <th>actual_prison</th>\n",
       "      <td>18</td>\n",
       "      <td>4001</td>\n",
       "    </tr>\n",
       "  </tbody>\n",
       "</table>\n",
       "</div>"
      ],
      "text/plain": [
       "                  predicted_no_prison  predicted_prison\n",
       "actual_no_prison                   33               156\n",
       "actual_prison                      18              4001"
      ]
     },
     "execution_count": 18,
     "metadata": {},
     "output_type": "execute_result"
    }
   ],
   "source": [
    "preds = np.round(model.predict(X_no_test_sc),0)\n",
    "tn, fp, fn, tp = metrics.confusion_matrix(y_no_test, preds).ravel()\n",
    "\n",
    "\n",
    "\n",
    "cm = pd.DataFrame(metrics.confusion_matrix(y_no_test, preds), \n",
    "                  columns=['predicted_no_prison', 'predicted_prison'], \n",
    "                  index=['actual_no_prison', 'actual_prison']\n",
    "                 )\n",
    "cm"
   ]
  },
  {
   "cell_type": "code",
   "execution_count": 19,
   "id": "e55063e2",
   "metadata": {
    "scrolled": false
   },
   "outputs": [
    {
     "name": "stdout",
     "output_type": "stream",
     "text": [
      "174\n"
     ]
    }
   ],
   "source": [
    "misclass1_no = []\n",
    "for row_index, (input, prediction, label) in enumerate(zip (X_no_test_sc, preds, y_no_test)):\n",
    "    if prediction != label:\n",
    "        misclass1_no.append(row_index)\n",
    "print(len(misclass1_no))"
   ]
  },
  {
   "cell_type": "markdown",
   "id": "6e898509",
   "metadata": {},
   "source": [
    "#### Analysis:\n",
    ">loss: 0.1251 - accuracy: 0.9608 - val_loss: 0.1591 - val_accuracy: 0.9587\n",
    "\n",
    "As expected, we again have a very accurate model. However, likely suffering because of the test-set class imbalance as it barely beats our null model.\n",
    "\n",
    "This very high accuracy leads to only 174 misclassifications, 18 of which are in the position we are most interested in; predicted no-prison, actual prison."
   ]
  },
  {
   "cell_type": "markdown",
   "id": "982e92a3",
   "metadata": {},
   "source": [
    "---\n",
    "\n",
    "# Balance Imbalanced Data\n",
    "\n",
    "---"
   ]
  },
  {
   "cell_type": "markdown",
   "id": "1a1107c1",
   "metadata": {},
   "source": [
    "## Under Sample Majority"
   ]
  },
  {
   "cell_type": "code",
   "execution_count": 20,
   "id": "e9805517",
   "metadata": {},
   "outputs": [],
   "source": [
    "nm = RandomUnderSampler()\n",
    "X_train_under, y_train_under = nm.fit_resample(X_train_sc, y_train)"
   ]
  },
  {
   "cell_type": "code",
   "execution_count": 21,
   "id": "ce213856",
   "metadata": {},
   "outputs": [
    {
     "data": {
      "text/plain": [
       "0    0.5\n",
       "1    0.5\n",
       "Name: prisdum, dtype: float64"
      ]
     },
     "execution_count": 21,
     "metadata": {},
     "output_type": "execute_result"
    }
   ],
   "source": [
    "y_train_under.value_counts(normalize=True)"
   ]
  },
  {
   "cell_type": "code",
   "execution_count": 22,
   "id": "94a8ff06",
   "metadata": {
    "scrolled": true
   },
   "outputs": [
    {
     "name": "stdout",
     "output_type": "stream",
     "text": [
      "Epoch 1/200\n",
      "36/36 [==============================] - 1s 8ms/step - loss: 0.6277 - accuracy: 0.6301 - val_loss: 0.5608 - val_accuracy: 0.6747\n",
      "Epoch 2/200\n",
      "36/36 [==============================] - 0s 6ms/step - loss: 0.4944 - accuracy: 0.7619 - val_loss: 0.4614 - val_accuracy: 0.7412\n",
      "Epoch 3/200\n",
      "36/36 [==============================] - 0s 5ms/step - loss: 0.4778 - accuracy: 0.7664 - val_loss: 0.4346 - val_accuracy: 0.7548\n",
      "Epoch 4/200\n",
      "36/36 [==============================] - 0s 4ms/step - loss: 0.4537 - accuracy: 0.7805 - val_loss: 0.4395 - val_accuracy: 0.7471\n",
      "Epoch 5/200\n",
      "36/36 [==============================] - 0s 4ms/step - loss: 0.4473 - accuracy: 0.7903 - val_loss: 0.4783 - val_accuracy: 0.7315\n",
      "Epoch 6/200\n",
      "36/36 [==============================] - 0s 4ms/step - loss: 0.4350 - accuracy: 0.7965 - val_loss: 0.5248 - val_accuracy: 0.6927\n",
      "Epoch 7/200\n",
      "36/36 [==============================] - 0s 4ms/step - loss: 0.4302 - accuracy: 0.7947 - val_loss: 0.4432 - val_accuracy: 0.7614\n",
      "Epoch 8/200\n",
      "36/36 [==============================] - 0s 4ms/step - loss: 0.4065 - accuracy: 0.8018 - val_loss: 0.4741 - val_accuracy: 0.7317\n",
      "Epoch 9/200\n",
      "36/36 [==============================] - 0s 4ms/step - loss: 0.4174 - accuracy: 0.8027 - val_loss: 0.4903 - val_accuracy: 0.7374\n",
      "Epoch 10/200\n",
      "36/36 [==============================] - 0s 4ms/step - loss: 0.3935 - accuracy: 0.8186 - val_loss: 0.4302 - val_accuracy: 0.7799\n",
      "Epoch 11/200\n",
      "36/36 [==============================] - 0s 4ms/step - loss: 0.4022 - accuracy: 0.8097 - val_loss: 0.4654 - val_accuracy: 0.7512\n",
      "Epoch 12/200\n",
      "36/36 [==============================] - 0s 4ms/step - loss: 0.3996 - accuracy: 0.8230 - val_loss: 0.4653 - val_accuracy: 0.7657\n",
      "Epoch 13/200\n",
      "36/36 [==============================] - 0s 4ms/step - loss: 0.4018 - accuracy: 0.8053 - val_loss: 0.4086 - val_accuracy: 0.8047\n",
      "Epoch 14/200\n",
      "36/36 [==============================] - 0s 4ms/step - loss: 0.3853 - accuracy: 0.8230 - val_loss: 0.4293 - val_accuracy: 0.7883\n",
      "Epoch 15/200\n",
      "36/36 [==============================] - 0s 4ms/step - loss: 0.3696 - accuracy: 0.8345 - val_loss: 0.4788 - val_accuracy: 0.7666\n",
      "Epoch 16/200\n",
      "36/36 [==============================] - 0s 4ms/step - loss: 0.3824 - accuracy: 0.8283 - val_loss: 0.5198 - val_accuracy: 0.7400\n",
      "Epoch 17/200\n",
      "36/36 [==============================] - 0s 4ms/step - loss: 0.3729 - accuracy: 0.8292 - val_loss: 0.4602 - val_accuracy: 0.7783\n",
      "Epoch 18/200\n",
      "36/36 [==============================] - 0s 4ms/step - loss: 0.3802 - accuracy: 0.8159 - val_loss: 0.4709 - val_accuracy: 0.7692\n",
      "Epoch 19/200\n",
      "36/36 [==============================] - 0s 4ms/step - loss: 0.3758 - accuracy: 0.8310 - val_loss: 0.4695 - val_accuracy: 0.7726\n",
      "Epoch 20/200\n",
      "36/36 [==============================] - 0s 4ms/step - loss: 0.3699 - accuracy: 0.8381 - val_loss: 0.4257 - val_accuracy: 0.8020\n",
      "Epoch 21/200\n",
      "36/36 [==============================] - 0s 4ms/step - loss: 0.3729 - accuracy: 0.8327 - val_loss: 0.4729 - val_accuracy: 0.7685\n",
      "Epoch 22/200\n",
      "36/36 [==============================] - 0s 4ms/step - loss: 0.3608 - accuracy: 0.8407 - val_loss: 0.4430 - val_accuracy: 0.7913\n",
      "Epoch 23/200\n",
      "36/36 [==============================] - 0s 4ms/step - loss: 0.3535 - accuracy: 0.8451 - val_loss: 0.5578 - val_accuracy: 0.7322\n",
      "Epoch 00023: early stopping\n"
     ]
    }
   ],
   "source": [
    "model = Sequential()\n",
    "model.add(Dense(64, input_shape=(X_train_under.shape[1],), activation='relu'))\n",
    "model.add(Dropout(0.2))\n",
    "model.add(Dense(128, activation='relu'))\n",
    "model.add(Dropout(0.2))\n",
    "model.add(Dense(64, activation='relu'))\n",
    "model.add(Dropout(0.2))\n",
    "model.add(Dense(1, activation='sigmoid'))\n",
    "\n",
    "model.compile(loss='bce', \n",
    "              optimizer='adam', \n",
    "              metrics=['accuracy'])\n",
    "\n",
    "early_stop = EarlyStopping(monitor='val_loss', patience=10, verbose=1)\n",
    "\n",
    "history = model.fit(\n",
    "    X_train_under,\n",
    "    y_train_under,\n",
    "    validation_data=(X_test_sc, y_test),\n",
    "    epochs=200,\n",
    "    callbacks=[early_stop]\n",
    ")"
   ]
  },
  {
   "cell_type": "code",
   "execution_count": 23,
   "id": "faff4f6f",
   "metadata": {},
   "outputs": [
    {
     "data": {
      "text/html": [
       "<div>\n",
       "<style scoped>\n",
       "    .dataframe tbody tr th:only-of-type {\n",
       "        vertical-align: middle;\n",
       "    }\n",
       "\n",
       "    .dataframe tbody tr th {\n",
       "        vertical-align: top;\n",
       "    }\n",
       "\n",
       "    .dataframe thead th {\n",
       "        text-align: right;\n",
       "    }\n",
       "</style>\n",
       "<table border=\"1\" class=\"dataframe\">\n",
       "  <thead>\n",
       "    <tr style=\"text-align: right;\">\n",
       "      <th></th>\n",
       "      <th>predicted_no_prison</th>\n",
       "      <th>predicted_prison</th>\n",
       "    </tr>\n",
       "  </thead>\n",
       "  <tbody>\n",
       "    <tr>\n",
       "      <th>actual_no_prison</th>\n",
       "      <td>160</td>\n",
       "      <td>29</td>\n",
       "    </tr>\n",
       "    <tr>\n",
       "      <th>actual_prison</th>\n",
       "      <td>1098</td>\n",
       "      <td>2921</td>\n",
       "    </tr>\n",
       "  </tbody>\n",
       "</table>\n",
       "</div>"
      ],
      "text/plain": [
       "                  predicted_no_prison  predicted_prison\n",
       "actual_no_prison                  160                29\n",
       "actual_prison                    1098              2921"
      ]
     },
     "execution_count": 23,
     "metadata": {},
     "output_type": "execute_result"
    }
   ],
   "source": [
    "preds = np.round(model.predict(X_test_sc),0)\n",
    "tn, fp, fn, tp = metrics.confusion_matrix(y_test, preds).ravel()\n",
    "\n",
    "\n",
    "\n",
    "cm = pd.DataFrame(metrics.confusion_matrix(y_test, preds), \n",
    "                  columns=['predicted_no_prison', 'predicted_prison'], \n",
    "                  index=['actual_no_prison', 'actual_prison']\n",
    "                 )\n",
    "cm"
   ]
  },
  {
   "cell_type": "code",
   "execution_count": 24,
   "id": "a004a344",
   "metadata": {
    "scrolled": true
   },
   "outputs": [
    {
     "name": "stdout",
     "output_type": "stream",
     "text": [
      "1127\n"
     ]
    }
   ],
   "source": [
    "misclass2 = []\n",
    "for row_index, (input, prediction, label) in enumerate(zip (X_test_sc, preds, y_test)):\n",
    "    if prediction != label:\n",
    "        misclass2.append(row_index)\n",
    "print(len(misclass2))"
   ]
  },
  {
   "cell_type": "markdown",
   "id": "87aa645a",
   "metadata": {},
   "source": [
    "#### Analysis \n",
    "\n",
    ">loss: 0.3535 - accuracy: 0.8451 - val_loss: 0.5578 - val_accuracy: 0.7322\n",
    "\n",
    "After balancing, we have a much more reasonable model. There is evidence of overfitting when looking at the train accuracy of 84.51% versus a test accuracy of 73.22%, but we are more concerned with what was misclassified.\n",
    "\n",
    "We see a large relative increase in misclassifications, as expected with such a large loss in accuracy, with a total of 1127 misclassifications, 1098 of which are in the position we are most interested in; predicted no-prison, actual prison."
   ]
  },
  {
   "cell_type": "markdown",
   "id": "780f4a31",
   "metadata": {},
   "source": [
    "### Without Demographic information"
   ]
  },
  {
   "cell_type": "code",
   "execution_count": 25,
   "id": "c2aa221c",
   "metadata": {},
   "outputs": [],
   "source": [
    "nm = RandomUnderSampler()\n",
    "X_no_train_under, y_no_train_under = nm.fit_resample(X_no_train_sc, y_no_train)"
   ]
  },
  {
   "cell_type": "code",
   "execution_count": 26,
   "id": "f324b602",
   "metadata": {
    "scrolled": true
   },
   "outputs": [
    {
     "name": "stdout",
     "output_type": "stream",
     "text": [
      "Epoch 1/200\n",
      "36/36 [==============================] - 1s 7ms/step - loss: 0.6518 - accuracy: 0.6212 - val_loss: 0.5944 - val_accuracy: 0.6483\n",
      "Epoch 2/200\n",
      "36/36 [==============================] - 0s 4ms/step - loss: 0.5210 - accuracy: 0.7204 - val_loss: 0.5162 - val_accuracy: 0.6675\n",
      "Epoch 3/200\n",
      "36/36 [==============================] - 0s 5ms/step - loss: 0.4929 - accuracy: 0.7593 - val_loss: 0.5056 - val_accuracy: 0.6799\n",
      "Epoch 4/200\n",
      "36/36 [==============================] - 0s 3ms/step - loss: 0.4899 - accuracy: 0.7619 - val_loss: 0.4591 - val_accuracy: 0.7407\n",
      "Epoch 5/200\n",
      "36/36 [==============================] - 0s 4ms/step - loss: 0.4767 - accuracy: 0.7779 - val_loss: 0.5727 - val_accuracy: 0.6221\n",
      "Epoch 6/200\n",
      "36/36 [==============================] - 0s 4ms/step - loss: 0.4750 - accuracy: 0.7770 - val_loss: 0.5020 - val_accuracy: 0.7029\n",
      "Epoch 7/200\n",
      "36/36 [==============================] - 0s 5ms/step - loss: 0.4687 - accuracy: 0.7832 - val_loss: 0.5429 - val_accuracy: 0.6770\n",
      "Epoch 8/200\n",
      "36/36 [==============================] - 0s 4ms/step - loss: 0.4622 - accuracy: 0.7841 - val_loss: 0.5143 - val_accuracy: 0.7022\n",
      "Epoch 9/200\n",
      "36/36 [==============================] - 0s 4ms/step - loss: 0.4406 - accuracy: 0.8088 - val_loss: 0.4863 - val_accuracy: 0.7398\n",
      "Epoch 10/200\n",
      "36/36 [==============================] - 0s 4ms/step - loss: 0.4409 - accuracy: 0.7956 - val_loss: 0.5002 - val_accuracy: 0.7319\n",
      "Epoch 11/200\n",
      "36/36 [==============================] - 0s 4ms/step - loss: 0.4374 - accuracy: 0.8044 - val_loss: 0.5144 - val_accuracy: 0.7298\n",
      "Epoch 12/200\n",
      "36/36 [==============================] - 0s 4ms/step - loss: 0.4260 - accuracy: 0.8186 - val_loss: 0.5215 - val_accuracy: 0.7329\n",
      "Epoch 13/200\n",
      "36/36 [==============================] - 0s 4ms/step - loss: 0.4281 - accuracy: 0.8124 - val_loss: 0.6094 - val_accuracy: 0.6827\n",
      "Epoch 14/200\n",
      "36/36 [==============================] - 0s 4ms/step - loss: 0.4105 - accuracy: 0.8265 - val_loss: 0.5280 - val_accuracy: 0.7184\n",
      "Epoch 00014: early stopping\n"
     ]
    }
   ],
   "source": [
    "model = Sequential()\n",
    "model.add(Dense(64, input_shape=(X_no_train_under.shape[1],), activation='relu'))\n",
    "model.add(Dropout(0.2))\n",
    "model.add(Dense(128, activation='relu'))\n",
    "model.add(Dropout(0.2))\n",
    "model.add(Dense(64, activation='relu'))\n",
    "model.add(Dropout(0.2))\n",
    "model.add(Dense(1, activation='sigmoid'))\n",
    "\n",
    "model.compile(loss='bce', \n",
    "              optimizer='adam', \n",
    "              metrics=['accuracy'])\n",
    "\n",
    "early_stop = EarlyStopping(monitor='val_loss', patience=10, verbose=1)\n",
    "\n",
    "history = model.fit(\n",
    "    X_no_train_under,\n",
    "    y_no_train_under,\n",
    "    validation_data=(X_no_test_sc, y_no_test),\n",
    "    epochs=200,\n",
    "    callbacks=[early_stop]\n",
    ")"
   ]
  },
  {
   "cell_type": "code",
   "execution_count": 27,
   "id": "67bae5b8",
   "metadata": {},
   "outputs": [
    {
     "data": {
      "text/html": [
       "<div>\n",
       "<style scoped>\n",
       "    .dataframe tbody tr th:only-of-type {\n",
       "        vertical-align: middle;\n",
       "    }\n",
       "\n",
       "    .dataframe tbody tr th {\n",
       "        vertical-align: top;\n",
       "    }\n",
       "\n",
       "    .dataframe thead th {\n",
       "        text-align: right;\n",
       "    }\n",
       "</style>\n",
       "<table border=\"1\" class=\"dataframe\">\n",
       "  <thead>\n",
       "    <tr style=\"text-align: right;\">\n",
       "      <th></th>\n",
       "      <th>predicted_no_prison</th>\n",
       "      <th>predicted_prison</th>\n",
       "    </tr>\n",
       "  </thead>\n",
       "  <tbody>\n",
       "    <tr>\n",
       "      <th>actual_no_prison</th>\n",
       "      <td>165</td>\n",
       "      <td>24</td>\n",
       "    </tr>\n",
       "    <tr>\n",
       "      <th>actual_prison</th>\n",
       "      <td>1161</td>\n",
       "      <td>2858</td>\n",
       "    </tr>\n",
       "  </tbody>\n",
       "</table>\n",
       "</div>"
      ],
      "text/plain": [
       "                  predicted_no_prison  predicted_prison\n",
       "actual_no_prison                  165                24\n",
       "actual_prison                    1161              2858"
      ]
     },
     "execution_count": 27,
     "metadata": {},
     "output_type": "execute_result"
    }
   ],
   "source": [
    "preds = np.round(model.predict(X_no_test_sc),0)\n",
    "tn, fp, fn, tp = metrics.confusion_matrix(y_no_test, preds).ravel()\n",
    "\n",
    "\n",
    "\n",
    "cm = pd.DataFrame(metrics.confusion_matrix(y_no_test, preds), \n",
    "                  columns=['predicted_no_prison', 'predicted_prison'], \n",
    "                  index=['actual_no_prison', 'actual_prison']\n",
    "                 )\n",
    "cm"
   ]
  },
  {
   "cell_type": "code",
   "execution_count": 28,
   "id": "466e68c7",
   "metadata": {
    "scrolled": true
   },
   "outputs": [
    {
     "name": "stdout",
     "output_type": "stream",
     "text": [
      "1185\n"
     ]
    }
   ],
   "source": [
    "misclass2_no = []\n",
    "for row_index, (input, prediction, label) in enumerate(zip (X_no_test_sc, preds, y_no_test)):\n",
    "    if prediction != label:\n",
    "        misclass2_no.append(row_index)\n",
    "print(len(misclass2_no))"
   ]
  },
  {
   "cell_type": "markdown",
   "id": "a1ce5516",
   "metadata": {},
   "source": [
    "#### Analysis \n",
    "\n",
    "> loss: 0.4105 - accuracy: 0.8265 - val_loss: 0.5280 - val_accuracy: 0.7184\n",
    "\n",
    "After removing demographics, we see a small drop in accuracy, however this can be attributed to simple a loss of features. \n",
    "\n",
    "We do see a small relative increase in misclassifications from the similar model that included demographics, a total of 1185 misclassifications, 1161 of which are in the position we are most interested in; predicted no-prison, actual prison."
   ]
  },
  {
   "cell_type": "markdown",
   "id": "bbe1e539",
   "metadata": {},
   "source": [
    "#### Save model for Application"
   ]
  },
  {
   "cell_type": "code",
   "execution_count": 29,
   "id": "9359671b",
   "metadata": {},
   "outputs": [
    {
     "name": "stdout",
     "output_type": "stream",
     "text": [
      "INFO:tensorflow:Assets written to: NN_under_nodem\\assets\n"
     ]
    }
   ],
   "source": [
    "model.save('NN_under_nodem')"
   ]
  },
  {
   "cell_type": "markdown",
   "id": "618ebdb4",
   "metadata": {},
   "source": [
    "## SMOTE"
   ]
  },
  {
   "cell_type": "code",
   "execution_count": 30,
   "id": "3e99ae53",
   "metadata": {},
   "outputs": [],
   "source": [
    "smo = SMOTE()\n",
    "\n",
    "X_train_smote, y_train_smote = smo.fit_resample(X_train_sc, y_train)"
   ]
  },
  {
   "cell_type": "code",
   "execution_count": 31,
   "id": "7af6c92a",
   "metadata": {
    "scrolled": true
   },
   "outputs": [
    {
     "name": "stdout",
     "output_type": "stream",
     "text": [
      "Epoch 1/200\n",
      "754/754 [==============================] - 2s 2ms/step - loss: 0.4066 - accuracy: 0.8118 - val_loss: 0.3832 - val_accuracy: 0.8106\n",
      "Epoch 2/200\n",
      "754/754 [==============================] - 1s 2ms/step - loss: 0.3421 - accuracy: 0.8538 - val_loss: 0.3196 - val_accuracy: 0.8512\n",
      "Epoch 3/200\n",
      "754/754 [==============================] - 1s 2ms/step - loss: 0.3097 - accuracy: 0.8687 - val_loss: 0.3235 - val_accuracy: 0.8453\n",
      "Epoch 4/200\n",
      "754/754 [==============================] - 1s 2ms/step - loss: 0.2841 - accuracy: 0.8808 - val_loss: 0.3093 - val_accuracy: 0.8538\n",
      "Epoch 5/200\n",
      "754/754 [==============================] - 1s 2ms/step - loss: 0.2655 - accuracy: 0.8921 - val_loss: 0.2982 - val_accuracy: 0.8691\n",
      "Epoch 6/200\n",
      "754/754 [==============================] - 1s 2ms/step - loss: 0.2542 - accuracy: 0.8950 - val_loss: 0.3447 - val_accuracy: 0.8472\n",
      "Epoch 7/200\n",
      "754/754 [==============================] - 1s 2ms/step - loss: 0.2379 - accuracy: 0.9027 - val_loss: 0.2990 - val_accuracy: 0.8657\n",
      "Epoch 8/200\n",
      "754/754 [==============================] - 1s 2ms/step - loss: 0.2298 - accuracy: 0.9092 - val_loss: 0.3343 - val_accuracy: 0.8705\n",
      "Epoch 9/200\n",
      "754/754 [==============================] - 1s 2ms/step - loss: 0.2212 - accuracy: 0.9115 - val_loss: 0.3273 - val_accuracy: 0.8771\n",
      "Epoch 10/200\n",
      "754/754 [==============================] - 1s 2ms/step - loss: 0.2106 - accuracy: 0.9193 - val_loss: 0.3187 - val_accuracy: 0.8807\n",
      "Epoch 11/200\n",
      "754/754 [==============================] - 1s 2ms/step - loss: 0.2101 - accuracy: 0.9183 - val_loss: 0.3308 - val_accuracy: 0.8805\n",
      "Epoch 12/200\n",
      "754/754 [==============================] - 1s 2ms/step - loss: 0.1993 - accuracy: 0.9234 - val_loss: 0.3143 - val_accuracy: 0.8874\n",
      "Epoch 13/200\n",
      "754/754 [==============================] - 1s 2ms/step - loss: 0.1928 - accuracy: 0.9260 - val_loss: 0.3418 - val_accuracy: 0.8821\n",
      "Epoch 14/200\n",
      "754/754 [==============================] - 1s 2ms/step - loss: 0.1881 - accuracy: 0.9287 - val_loss: 0.3456 - val_accuracy: 0.8819\n",
      "Epoch 15/200\n",
      "754/754 [==============================] - 1s 2ms/step - loss: 0.1826 - accuracy: 0.9312 - val_loss: 0.3377 - val_accuracy: 0.8893\n",
      "Epoch 00015: early stopping\n"
     ]
    }
   ],
   "source": [
    "model = Sequential()\n",
    "model.add(Dense(64, input_shape=(X_train_smote.shape[1],), activation='relu'))\n",
    "model.add(Dropout(0.2))\n",
    "model.add(Dense(128, activation='relu'))\n",
    "model.add(Dropout(0.2))\n",
    "model.add(Dense(64, activation='relu'))\n",
    "model.add(Dropout(0.2))\n",
    "model.add(Dense(1, activation='sigmoid'))\n",
    "\n",
    "model.compile(loss='bce', \n",
    "              optimizer='adam', \n",
    "              metrics=['accuracy'])\n",
    "\n",
    "early_stop = EarlyStopping(monitor='val_loss', patience=10, verbose=1)\n",
    "\n",
    "history = model.fit(\n",
    "    X_train_smote,\n",
    "    y_train_smote,\n",
    "    validation_data=(X_test_sc, y_test),\n",
    "    epochs=200,\n",
    "    callbacks=[early_stop]\n",
    ")"
   ]
  },
  {
   "cell_type": "code",
   "execution_count": 32,
   "id": "0da560ca",
   "metadata": {},
   "outputs": [
    {
     "data": {
      "text/html": [
       "<div>\n",
       "<style scoped>\n",
       "    .dataframe tbody tr th:only-of-type {\n",
       "        vertical-align: middle;\n",
       "    }\n",
       "\n",
       "    .dataframe tbody tr th {\n",
       "        vertical-align: top;\n",
       "    }\n",
       "\n",
       "    .dataframe thead th {\n",
       "        text-align: right;\n",
       "    }\n",
       "</style>\n",
       "<table border=\"1\" class=\"dataframe\">\n",
       "  <thead>\n",
       "    <tr style=\"text-align: right;\">\n",
       "      <th></th>\n",
       "      <th>predicted_no_prison</th>\n",
       "      <th>predicted_prison</th>\n",
       "    </tr>\n",
       "  </thead>\n",
       "  <tbody>\n",
       "    <tr>\n",
       "      <th>actual_no_prison</th>\n",
       "      <td>119</td>\n",
       "      <td>70</td>\n",
       "    </tr>\n",
       "    <tr>\n",
       "      <th>actual_prison</th>\n",
       "      <td>396</td>\n",
       "      <td>3623</td>\n",
       "    </tr>\n",
       "  </tbody>\n",
       "</table>\n",
       "</div>"
      ],
      "text/plain": [
       "                  predicted_no_prison  predicted_prison\n",
       "actual_no_prison                  119                70\n",
       "actual_prison                     396              3623"
      ]
     },
     "execution_count": 32,
     "metadata": {},
     "output_type": "execute_result"
    }
   ],
   "source": [
    "preds = np.round(model.predict(X_test_sc),0)\n",
    "tn, fp, fn, tp = metrics.confusion_matrix(y_test, preds).ravel()\n",
    "\n",
    "\n",
    "\n",
    "cm = pd.DataFrame(metrics.confusion_matrix(y_test, preds), \n",
    "                  columns=['predicted_no_prison', 'predicted_prison'], \n",
    "                  index=['actual_no_prison', 'actual_prison']\n",
    "                 )\n",
    "cm"
   ]
  },
  {
   "cell_type": "code",
   "execution_count": 33,
   "id": "3d5f2737",
   "metadata": {},
   "outputs": [
    {
     "name": "stdout",
     "output_type": "stream",
     "text": [
      "466\n"
     ]
    }
   ],
   "source": [
    "misclass3 = []\n",
    "for row_index, (input, prediction, label) in enumerate(zip (X_test_sc, preds, y_test)):\n",
    "    if prediction != label:\n",
    "        misclass3.append(row_index)\n",
    "print(len(misclass3))"
   ]
  },
  {
   "cell_type": "markdown",
   "id": "f7d27ec3",
   "metadata": {},
   "source": [
    "#### Analysis \n",
    "\n",
    "> loss: 0.1826 - accuracy: 0.9312 - val_loss: 0.3377 - val_accuracy: 0.8893\n",
    "\n",
    "SMOTE produced a much stronger model, with higher accuracy for both train and test sets as well as a smaller difference between the two accuracies.\n",
    "\n",
    "Due to this higher accuracy, we have a lower misclassification rate with a total of 466, 396 of which are in the position we are most interested in; predicted no-prison, actual prison."
   ]
  },
  {
   "cell_type": "markdown",
   "id": "6a9e317b",
   "metadata": {},
   "source": [
    "### Without Demographic information"
   ]
  },
  {
   "cell_type": "code",
   "execution_count": 34,
   "id": "a8949928",
   "metadata": {},
   "outputs": [],
   "source": [
    "nm = RandomUnderSampler()\n",
    "X_no_train_under, y_no_train_under = nm.fit_resample(X_no_train_sc, y_no_train)"
   ]
  },
  {
   "cell_type": "code",
   "execution_count": 35,
   "id": "9a6ff6d2",
   "metadata": {
    "scrolled": true
   },
   "outputs": [
    {
     "name": "stdout",
     "output_type": "stream",
     "text": [
      "Epoch 1/200\n",
      "36/36 [==============================] - 1s 7ms/step - loss: 0.6273 - accuracy: 0.6398 - val_loss: 0.6348 - val_accuracy: 0.7621\n",
      "Epoch 2/200\n",
      "36/36 [==============================] - 0s 5ms/step - loss: 0.5447 - accuracy: 0.7274 - val_loss: 0.5733 - val_accuracy: 0.7029\n",
      "Epoch 3/200\n",
      "36/36 [==============================] - 0s 4ms/step - loss: 0.5041 - accuracy: 0.7460 - val_loss: 0.4836 - val_accuracy: 0.7236\n",
      "Epoch 4/200\n",
      "36/36 [==============================] - 0s 5ms/step - loss: 0.5012 - accuracy: 0.7496 - val_loss: 0.4609 - val_accuracy: 0.7386\n",
      "Epoch 5/200\n",
      "36/36 [==============================] - 0s 4ms/step - loss: 0.4781 - accuracy: 0.7637 - val_loss: 0.5493 - val_accuracy: 0.6459\n",
      "Epoch 6/200\n",
      "36/36 [==============================] - 0s 4ms/step - loss: 0.4796 - accuracy: 0.7673 - val_loss: 0.4877 - val_accuracy: 0.7018\n",
      "Epoch 7/200\n",
      "36/36 [==============================] - 0s 5ms/step - loss: 0.4658 - accuracy: 0.7770 - val_loss: 0.4862 - val_accuracy: 0.7184\n",
      "Epoch 8/200\n",
      "36/36 [==============================] - 0s 4ms/step - loss: 0.4720 - accuracy: 0.7726 - val_loss: 0.4716 - val_accuracy: 0.7269\n",
      "Epoch 9/200\n",
      "36/36 [==============================] - 0s 4ms/step - loss: 0.4606 - accuracy: 0.7743 - val_loss: 0.4472 - val_accuracy: 0.7483\n",
      "Epoch 10/200\n",
      "36/36 [==============================] - 0s 4ms/step - loss: 0.4603 - accuracy: 0.7850 - val_loss: 0.5155 - val_accuracy: 0.7134\n",
      "Epoch 11/200\n",
      "36/36 [==============================] - 0s 4ms/step - loss: 0.4541 - accuracy: 0.7858 - val_loss: 0.5037 - val_accuracy: 0.7094\n",
      "Epoch 12/200\n",
      "36/36 [==============================] - 0s 4ms/step - loss: 0.4474 - accuracy: 0.7938 - val_loss: 0.5245 - val_accuracy: 0.6951\n",
      "Epoch 13/200\n",
      "36/36 [==============================] - 0s 4ms/step - loss: 0.4412 - accuracy: 0.8009 - val_loss: 0.5435 - val_accuracy: 0.6904\n",
      "Epoch 14/200\n",
      "36/36 [==============================] - 0s 4ms/step - loss: 0.4444 - accuracy: 0.7920 - val_loss: 0.4774 - val_accuracy: 0.7286\n",
      "Epoch 15/200\n",
      "36/36 [==============================] - 0s 4ms/step - loss: 0.4292 - accuracy: 0.8115 - val_loss: 0.5332 - val_accuracy: 0.7029\n",
      "Epoch 16/200\n",
      "36/36 [==============================] - 0s 4ms/step - loss: 0.4290 - accuracy: 0.8124 - val_loss: 0.5541 - val_accuracy: 0.6968\n",
      "Epoch 17/200\n",
      "36/36 [==============================] - 0s 4ms/step - loss: 0.4328 - accuracy: 0.8106 - val_loss: 0.4383 - val_accuracy: 0.7569\n",
      "Epoch 18/200\n",
      "36/36 [==============================] - 0s 4ms/step - loss: 0.4331 - accuracy: 0.8097 - val_loss: 0.5179 - val_accuracy: 0.7144\n",
      "Epoch 19/200\n",
      "36/36 [==============================] - 0s 4ms/step - loss: 0.4158 - accuracy: 0.8124 - val_loss: 0.5259 - val_accuracy: 0.7224\n",
      "Epoch 20/200\n",
      "36/36 [==============================] - 0s 4ms/step - loss: 0.4172 - accuracy: 0.8106 - val_loss: 0.4519 - val_accuracy: 0.7571\n",
      "Epoch 21/200\n",
      "36/36 [==============================] - 0s 4ms/step - loss: 0.4225 - accuracy: 0.8195 - val_loss: 0.4676 - val_accuracy: 0.7462\n",
      "Epoch 22/200\n",
      "36/36 [==============================] - 0s 4ms/step - loss: 0.4205 - accuracy: 0.8204 - val_loss: 0.5408 - val_accuracy: 0.7167\n",
      "Epoch 23/200\n",
      "36/36 [==============================] - 0s 6ms/step - loss: 0.4132 - accuracy: 0.8124 - val_loss: 0.6024 - val_accuracy: 0.6906\n",
      "Epoch 24/200\n",
      "36/36 [==============================] - 0s 4ms/step - loss: 0.4096 - accuracy: 0.8035 - val_loss: 0.4613 - val_accuracy: 0.7567\n",
      "Epoch 25/200\n",
      "36/36 [==============================] - 0s 4ms/step - loss: 0.4007 - accuracy: 0.8283 - val_loss: 0.5311 - val_accuracy: 0.7300\n",
      "Epoch 26/200\n",
      "36/36 [==============================] - 0s 4ms/step - loss: 0.3948 - accuracy: 0.8257 - val_loss: 0.4513 - val_accuracy: 0.7588\n",
      "Epoch 27/200\n",
      "36/36 [==============================] - 0s 4ms/step - loss: 0.3958 - accuracy: 0.8292 - val_loss: 0.5057 - val_accuracy: 0.7410\n",
      "Epoch 00027: early stopping\n"
     ]
    }
   ],
   "source": [
    "model = Sequential()\n",
    "model.add(Dense(64, input_shape=(X_no_train_under.shape[1],), activation='relu'))\n",
    "model.add(Dropout(0.2))\n",
    "model.add(Dense(128, activation='relu'))\n",
    "model.add(Dropout(0.2))\n",
    "model.add(Dense(64, activation='relu'))\n",
    "model.add(Dropout(0.2))\n",
    "model.add(Dense(1, activation='sigmoid'))\n",
    "\n",
    "model.compile(loss='bce', \n",
    "              optimizer='adam', \n",
    "              metrics=['accuracy'])\n",
    "\n",
    "early_stop = EarlyStopping(monitor='val_loss', patience=10, verbose=1)\n",
    "\n",
    "history = model.fit(\n",
    "    X_no_train_under,\n",
    "    y_no_train_under,\n",
    "    validation_data=(X_no_test_sc, y_no_test),\n",
    "    epochs=200,\n",
    "    callbacks=[early_stop]\n",
    ")"
   ]
  },
  {
   "cell_type": "code",
   "execution_count": 36,
   "id": "68c0ae13",
   "metadata": {},
   "outputs": [
    {
     "data": {
      "text/html": [
       "<div>\n",
       "<style scoped>\n",
       "    .dataframe tbody tr th:only-of-type {\n",
       "        vertical-align: middle;\n",
       "    }\n",
       "\n",
       "    .dataframe tbody tr th {\n",
       "        vertical-align: top;\n",
       "    }\n",
       "\n",
       "    .dataframe thead th {\n",
       "        text-align: right;\n",
       "    }\n",
       "</style>\n",
       "<table border=\"1\" class=\"dataframe\">\n",
       "  <thead>\n",
       "    <tr style=\"text-align: right;\">\n",
       "      <th></th>\n",
       "      <th>predicted_no_prison</th>\n",
       "      <th>predicted_prison</th>\n",
       "    </tr>\n",
       "  </thead>\n",
       "  <tbody>\n",
       "    <tr>\n",
       "      <th>actual_no_prison</th>\n",
       "      <td>159</td>\n",
       "      <td>30</td>\n",
       "    </tr>\n",
       "    <tr>\n",
       "      <th>actual_prison</th>\n",
       "      <td>1060</td>\n",
       "      <td>2959</td>\n",
       "    </tr>\n",
       "  </tbody>\n",
       "</table>\n",
       "</div>"
      ],
      "text/plain": [
       "                  predicted_no_prison  predicted_prison\n",
       "actual_no_prison                  159                30\n",
       "actual_prison                    1060              2959"
      ]
     },
     "execution_count": 36,
     "metadata": {},
     "output_type": "execute_result"
    }
   ],
   "source": [
    "preds = np.round(model.predict(X_no_test_sc),0)\n",
    "tn, fp, fn, tp = metrics.confusion_matrix(y_no_test, preds).ravel()\n",
    "\n",
    "\n",
    "\n",
    "cm = pd.DataFrame(metrics.confusion_matrix(y_no_test, preds), \n",
    "                  columns=['predicted_no_prison', 'predicted_prison'], \n",
    "                  index=['actual_no_prison', 'actual_prison']\n",
    "                 )\n",
    "cm"
   ]
  },
  {
   "cell_type": "code",
   "execution_count": 37,
   "id": "70525bc8",
   "metadata": {
    "scrolled": true
   },
   "outputs": [
    {
     "name": "stdout",
     "output_type": "stream",
     "text": [
      "1090\n"
     ]
    }
   ],
   "source": [
    "misclass3_no = []\n",
    "for row_index, (input, prediction, label) in enumerate(zip (X_no_test_sc, preds, y_no_test)):\n",
    "    if prediction != label:\n",
    "        misclass3_no.append(row_index)\n",
    "print(len(misclass3_no))"
   ]
  },
  {
   "cell_type": "markdown",
   "id": "911efe0c",
   "metadata": {},
   "source": [
    "#### Analysis \n",
    "\n",
    "> loss: 0.3958 - accuracy: 0.8292 - val_loss: 0.5057 - val_accuracy: 0.7410\n",
    "\n",
    "Now we start to see some interesting comparisons. When removing demographics, we see a significant loss in accuracy; part of which can be explained by the removal of features in general. We also see evidence of overfitting, but not to the level of the UnderSample balancing technique.\n",
    "\n",
    "We do see a large relative increase in misclassifications from the similar model that included demographics, a total of 1090 misclassifications, 1060 of which are in the position we are most interested in; predicted no-prison, actual prison."
   ]
  },
  {
   "cell_type": "markdown",
   "id": "590cd422",
   "metadata": {},
   "source": [
    "#### Save model for Application"
   ]
  },
  {
   "cell_type": "code",
   "execution_count": 38,
   "id": "13cafd4e",
   "metadata": {},
   "outputs": [
    {
     "name": "stdout",
     "output_type": "stream",
     "text": [
      "INFO:tensorflow:Assets written to: NN_smote_nodem\\assets\n"
     ]
    }
   ],
   "source": [
    "model.save('NN_smote_nodem')"
   ]
  },
  {
   "cell_type": "markdown",
   "id": "fe686488",
   "metadata": {},
   "source": [
    "---"
   ]
  },
  {
   "cell_type": "markdown",
   "id": "be82606e",
   "metadata": {},
   "source": [
    "# Misclassifications"
   ]
  },
  {
   "cell_type": "code",
   "execution_count": 39,
   "id": "a3a744c8",
   "metadata": {},
   "outputs": [],
   "source": [
    "import warnings\n",
    "warnings.filterwarnings(\"ignore\")"
   ]
  },
  {
   "cell_type": "code",
   "execution_count": 40,
   "id": "b5c20085",
   "metadata": {
    "scrolled": true
   },
   "outputs": [],
   "source": [
    "tar_misclass_set = [misclass3_no]        \n",
    "tar_misclass_ids = {}\n",
    "\n",
    "for misclass in tar_misclass_set:\n",
    "    for ids in misclass:\n",
    "        if ids in tar_misclass_ids.keys():\n",
    "            tar_misclass_ids[ids] += 1\n",
    "        else:\n",
    "            tar_misclass_ids[ids] = 1\n",
    "\n",
    "tar_misclass_df = df.iloc[[item for sublist in tar_misclass_set for item in sublist]]\n",
    "tar_misclass_df['no_of_misclass'] = 0\n",
    "\n",
    "for ids in tar_misclass_df.index:\n",
    "    tar_misclass_df['no_of_misclass'].loc[ids] = tar_misclass_ids[ids]"
   ]
  },
  {
   "cell_type": "code",
   "execution_count": 41,
   "id": "02a1e1fd",
   "metadata": {},
   "outputs": [
    {
     "name": "stdout",
     "output_type": "stream",
     "text": [
      "(1090, 65)\n"
     ]
    },
    {
     "data": {
      "text/html": [
       "<div>\n",
       "<style scoped>\n",
       "    .dataframe tbody tr th:only-of-type {\n",
       "        vertical-align: middle;\n",
       "    }\n",
       "\n",
       "    .dataframe tbody tr th {\n",
       "        vertical-align: top;\n",
       "    }\n",
       "\n",
       "    .dataframe thead th {\n",
       "        text-align: right;\n",
       "    }\n",
       "</style>\n",
       "<table border=\"1\" class=\"dataframe\">\n",
       "  <thead>\n",
       "    <tr style=\"text-align: right;\">\n",
       "      <th></th>\n",
       "      <th>accgdln</th>\n",
       "      <th>age</th>\n",
       "      <th>altdum</th>\n",
       "      <th>amttotal</th>\n",
       "      <th>casetype</th>\n",
       "      <th>citwhere</th>\n",
       "      <th>combdrg2</th>\n",
       "      <th>crimhist</th>\n",
       "      <th>disposit</th>\n",
       "      <th>district</th>\n",
       "      <th>...</th>\n",
       "      <th>typeoths</th>\n",
       "      <th>unit1</th>\n",
       "      <th>mwgt1</th>\n",
       "      <th>wgt1</th>\n",
       "      <th>xcrhissr</th>\n",
       "      <th>xfolsor</th>\n",
       "      <th>xmaxsor</th>\n",
       "      <th>xminsor</th>\n",
       "      <th>sentrnge</th>\n",
       "      <th>no_of_misclass</th>\n",
       "    </tr>\n",
       "  </thead>\n",
       "  <tbody>\n",
       "    <tr>\n",
       "      <th>0</th>\n",
       "      <td>1.0</td>\n",
       "      <td>20.0</td>\n",
       "      <td>0</td>\n",
       "      <td>0</td>\n",
       "      <td>1.0</td>\n",
       "      <td>211.0</td>\n",
       "      <td>6.0</td>\n",
       "      <td>1.0</td>\n",
       "      <td>1</td>\n",
       "      <td>43</td>\n",
       "      <td>...</td>\n",
       "      <td>0</td>\n",
       "      <td>1.0</td>\n",
       "      <td>6.356099e+07</td>\n",
       "      <td>85104.433315</td>\n",
       "      <td>1.0</td>\n",
       "      <td>17.0</td>\n",
       "      <td>30.0</td>\n",
       "      <td>24.0</td>\n",
       "      <td>8.0</td>\n",
       "      <td>1</td>\n",
       "    </tr>\n",
       "    <tr>\n",
       "      <th>2</th>\n",
       "      <td>1.0</td>\n",
       "      <td>28.0</td>\n",
       "      <td>0</td>\n",
       "      <td>0</td>\n",
       "      <td>1.0</td>\n",
       "      <td>211.0</td>\n",
       "      <td>3.0</td>\n",
       "      <td>1.0</td>\n",
       "      <td>1</td>\n",
       "      <td>48</td>\n",
       "      <td>...</td>\n",
       "      <td>0</td>\n",
       "      <td>2.0</td>\n",
       "      <td>2.000000e+06</td>\n",
       "      <td>2000.000000</td>\n",
       "      <td>6.0</td>\n",
       "      <td>27.0</td>\n",
       "      <td>162.0</td>\n",
       "      <td>130.0</td>\n",
       "      <td>2.0</td>\n",
       "      <td>1</td>\n",
       "    </tr>\n",
       "    <tr>\n",
       "      <th>5</th>\n",
       "      <td>8.0</td>\n",
       "      <td>22.0</td>\n",
       "      <td>0</td>\n",
       "      <td>125</td>\n",
       "      <td>2.0</td>\n",
       "      <td>211.0</td>\n",
       "      <td>4.0</td>\n",
       "      <td>1.0</td>\n",
       "      <td>1</td>\n",
       "      <td>87</td>\n",
       "      <td>...</td>\n",
       "      <td>0</td>\n",
       "      <td>1.0</td>\n",
       "      <td>6.356099e+07</td>\n",
       "      <td>85104.433315</td>\n",
       "      <td>1.0</td>\n",
       "      <td>2.0</td>\n",
       "      <td>6.0</td>\n",
       "      <td>0.0</td>\n",
       "      <td>0.0</td>\n",
       "      <td>1</td>\n",
       "    </tr>\n",
       "    <tr>\n",
       "      <th>7</th>\n",
       "      <td>1.0</td>\n",
       "      <td>30.0</td>\n",
       "      <td>0</td>\n",
       "      <td>0</td>\n",
       "      <td>1.0</td>\n",
       "      <td>49.0</td>\n",
       "      <td>3.0</td>\n",
       "      <td>1.0</td>\n",
       "      <td>1</td>\n",
       "      <td>39</td>\n",
       "      <td>...</td>\n",
       "      <td>0</td>\n",
       "      <td>1.0</td>\n",
       "      <td>8.900000e+06</td>\n",
       "      <td>8900.000000</td>\n",
       "      <td>1.0</td>\n",
       "      <td>29.0</td>\n",
       "      <td>108.0</td>\n",
       "      <td>87.0</td>\n",
       "      <td>2.0</td>\n",
       "      <td>1</td>\n",
       "    </tr>\n",
       "    <tr>\n",
       "      <th>10</th>\n",
       "      <td>1.0</td>\n",
       "      <td>31.0</td>\n",
       "      <td>0</td>\n",
       "      <td>0</td>\n",
       "      <td>1.0</td>\n",
       "      <td>211.0</td>\n",
       "      <td>6.0</td>\n",
       "      <td>1.0</td>\n",
       "      <td>1</td>\n",
       "      <td>62</td>\n",
       "      <td>...</td>\n",
       "      <td>0</td>\n",
       "      <td>1.0</td>\n",
       "      <td>7.154000e+05</td>\n",
       "      <td>35.770000</td>\n",
       "      <td>5.0</td>\n",
       "      <td>25.0</td>\n",
       "      <td>125.0</td>\n",
       "      <td>100.0</td>\n",
       "      <td>8.0</td>\n",
       "      <td>1</td>\n",
       "    </tr>\n",
       "  </tbody>\n",
       "</table>\n",
       "<p>5 rows × 65 columns</p>\n",
       "</div>"
      ],
      "text/plain": [
       "    accgdln   age  altdum  amttotal  casetype  citwhere  combdrg2  crimhist  \\\n",
       "0       1.0  20.0       0         0       1.0     211.0       6.0       1.0   \n",
       "2       1.0  28.0       0         0       1.0     211.0       3.0       1.0   \n",
       "5       8.0  22.0       0       125       2.0     211.0       4.0       1.0   \n",
       "7       1.0  30.0       0         0       1.0      49.0       3.0       1.0   \n",
       "10      1.0  31.0       0         0       1.0     211.0       6.0       1.0   \n",
       "\n",
       "    disposit  district  ...  typeoths  unit1         mwgt1          wgt1  \\\n",
       "0          1        43  ...         0    1.0  6.356099e+07  85104.433315   \n",
       "2          1        48  ...         0    2.0  2.000000e+06   2000.000000   \n",
       "5          1        87  ...         0    1.0  6.356099e+07  85104.433315   \n",
       "7          1        39  ...         0    1.0  8.900000e+06   8900.000000   \n",
       "10         1        62  ...         0    1.0  7.154000e+05     35.770000   \n",
       "\n",
       "    xcrhissr  xfolsor  xmaxsor  xminsor  sentrnge  no_of_misclass  \n",
       "0        1.0     17.0     30.0     24.0       8.0               1  \n",
       "2        6.0     27.0    162.0    130.0       2.0               1  \n",
       "5        1.0      2.0      6.0      0.0       0.0               1  \n",
       "7        1.0     29.0    108.0     87.0       2.0               1  \n",
       "10       5.0     25.0    125.0    100.0       8.0               1  \n",
       "\n",
       "[5 rows x 65 columns]"
      ]
     },
     "execution_count": 41,
     "metadata": {},
     "output_type": "execute_result"
    }
   ],
   "source": [
    "print(tar_misclass_df.shape)\n",
    "tar_misclass_df.head()"
   ]
  },
  {
   "cell_type": "markdown",
   "id": "3461aebc",
   "metadata": {},
   "source": [
    "---\n",
    "## Save Desired Model's Misclassifications to CSV\n",
    "\n",
    "We will save the misclassifications from our saved models, SMOTE and Undersample Majority, to a CSV for EDA purposes."
   ]
  },
  {
   "cell_type": "code",
   "execution_count": 42,
   "id": "af8dfc6d",
   "metadata": {},
   "outputs": [],
   "source": [
    "tar_misclass_df.to_csv('NN_misclass_df.csv')"
   ]
  }
 ],
 "metadata": {
  "kernelspec": {
   "display_name": "Python 3",
   "language": "python",
   "name": "python3"
  },
  "language_info": {
   "codemirror_mode": {
    "name": "ipython",
    "version": 3
   },
   "file_extension": ".py",
   "mimetype": "text/x-python",
   "name": "python",
   "nbconvert_exporter": "python",
   "pygments_lexer": "ipython3",
   "version": "3.8.8"
  }
 },
 "nbformat": 4,
 "nbformat_minor": 5
}
